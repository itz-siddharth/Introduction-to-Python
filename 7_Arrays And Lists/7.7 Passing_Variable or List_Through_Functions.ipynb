{
 "cells": [
  {
   "cell_type": "markdown",
   "metadata": {},
   "source": [
    "# Passing Variable Through Functions\n",
    "\n",
    "Variables are immutable. <br>\n",
    "Changes are not seen "
   ]
  },
  {
   "cell_type": "code",
   "execution_count": 6,
   "metadata": {},
   "outputs": [
    {
     "name": "stdout",
     "output_type": "stream",
     "text": [
      "140707138016096\n",
      "4\n",
      "140707138016160\n"
     ]
    }
   ],
   "source": [
    "def increment(a):\n",
    "    a = a + 2\n",
    "    return a\n",
    "\n",
    "a = 2\n",
    "print(id(a))\n",
    "\n",
    "a = increment(a)\n",
    "\n",
    "print(a)\n",
    "print(id(a))"
   ]
  },
  {
   "cell_type": "markdown",
   "metadata": {},
   "source": [
    "\n",
    "# Passing List Through Functions\n",
    "\n",
    "List are mutable <br>\n",
    "changes is seen because both list are pointing to same reference. <br>"
   ]
  },
  {
   "cell_type": "code",
   "execution_count": 8,
   "metadata": {},
   "outputs": [
    {
     "name": "stdout",
     "output_type": "stream",
     "text": [
      "[3, 2, 3, 4]\n"
     ]
    }
   ],
   "source": [
    "def increment(li):\n",
    "    li[0] = li[0] + 2\n",
    "    return \n",
    "\n",
    "li = [1,2,3,4]\n",
    "increment(li)\n",
    "print(li)"
   ]
  },
  {
   "cell_type": "code",
   "execution_count": 10,
   "metadata": {},
   "outputs": [
    {
     "name": "stdout",
     "output_type": "stream",
     "text": [
      "[1, 2, 3, 4]\n"
     ]
    }
   ],
   "source": [
    "def increment(li):\n",
    "    #li[0] = li[0] + 2\n",
    "    li = [3,3,4]\n",
    "    return \n",
    "\n",
    "li = [1,2,3,4]\n",
    "\n",
    "increment(li)\n",
    "\n",
    "print(li)"
   ]
  },
  {
   "cell_type": "code",
   "execution_count": 12,
   "metadata": {},
   "outputs": [
    {
     "name": "stdout",
     "output_type": "stream",
     "text": [
      "[3, 3, 4]\n"
     ]
    }
   ],
   "source": [
    "def increment(li):\n",
    "    #li[0] = li[0] + 2\n",
    "    li = [3,3,4]\n",
    "    return li\n",
    "\n",
    "li = [1,2,3,4]\n",
    "\n",
    "li = increment(li)\n",
    "\n",
    "print(li)"
   ]
  },
  {
   "cell_type": "markdown",
   "metadata": {},
   "source": [
    "## Predict the Output"
   ]
  },
  {
   "cell_type": "code",
   "execution_count": 14,
   "metadata": {},
   "outputs": [
    {
     "name": "stdout",
     "output_type": "stream",
     "text": [
      "[1, 4, 3, 4, 5]\n"
     ]
    }
   ],
   "source": [
    "def change(li):\n",
    "    li[1] = li[1] + 2\n",
    "li = [1,2,3,4,5]\n",
    "change(li)\n",
    "print(li)"
   ]
  },
  {
   "cell_type": "code",
   "execution_count": 16,
   "metadata": {},
   "outputs": [
    {
     "name": "stdout",
     "output_type": "stream",
     "text": [
      "[1, 4, 3, 4, 5]\n"
     ]
    }
   ],
   "source": [
    "def change(li):\n",
    "    li[1] = li[1] + 2\n",
    "    li = [3,3,3,4,5]\n",
    "li = [1,2,3,4,5]\n",
    "change(li)\n",
    "print(li)"
   ]
  }
 ],
 "metadata": {
  "kernelspec": {
   "display_name": "Python 3",
   "language": "python",
   "name": "python3"
  },
  "language_info": {
   "codemirror_mode": {
    "name": "ipython",
    "version": 3
   },
   "file_extension": ".py",
   "mimetype": "text/x-python",
   "name": "python",
   "nbconvert_exporter": "python",
   "pygments_lexer": "ipython3",
   "version": "3.7.3"
  }
 },
 "nbformat": 4,
 "nbformat_minor": 2
}
