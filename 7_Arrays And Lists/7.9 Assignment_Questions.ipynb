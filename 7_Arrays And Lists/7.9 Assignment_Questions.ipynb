{
 "cells": [
  {
   "cell_type": "markdown",
   "metadata": {},
   "source": [
    "# Assignment Questions"
   ]
  },
  {
   "cell_type": "markdown",
   "metadata": {},
   "source": [
    "### Swap Alternate"
   ]
  },
  {
   "cell_type": "code",
   "execution_count": 2,
   "metadata": {},
   "outputs": [
    {
     "name": "stdout",
     "output_type": "stream",
     "text": [
      "9\n",
      "9 3 6 12 4 32 5 11 19\n",
      "3 9 12 6 32 4 11 5 19 "
     ]
    }
   ],
   "source": [
    "#n can be odd or even \n",
    "n = int(input())\n",
    "if n%2 == 0:\n",
    "    length = n\n",
    "else:\n",
    "    length = n-1\n",
    "    \n",
    "li = [ int(x) for x in input().split() ]\n",
    "for i in range(0,length,2):\n",
    "    temp = li[i]\n",
    "    li[i] = li[i + 1]\n",
    "    li[i + 1] = temp\n",
    "\n",
    "for ele in li:\n",
    "    print(ele, end=' ')"
   ]
  },
  {
   "cell_type": "markdown",
   "metadata": {},
   "source": [
    "### Find Unique"
   ]
  },
  {
   "cell_type": "code",
   "execution_count": 52,
   "metadata": {},
   "outputs": [
    {
     "name": "stdout",
     "output_type": "stream",
     "text": [
      "7\n",
      "2 3 1 6 3 6 2\n",
      "1\n"
     ]
    }
   ],
   "source": [
    "def unique(li,N):\n",
    "    li2 = li\n",
    "    size = len(li) - 1\n",
    "    for i in range(0, len(li), 1):\n",
    "        count = 0\n",
    "        for j in range(0, len(li2),1):\n",
    "            if j == i:\n",
    "                continue\n",
    "            elif li2[j] == li[i]:\n",
    "                continue\n",
    "            else:\n",
    "                count = count + 1\n",
    "\n",
    "        \n",
    "        if count == size :\n",
    "            print(li[i])\n",
    "    i = i + 1\n",
    "\n",
    "N = int(input())\n",
    "li = [ int(x) for x in input().split() ]\n",
    "unique(li,N)"
   ]
  },
  {
   "cell_type": "code",
   "execution_count": 1,
   "metadata": {},
   "outputs": [
    {
     "name": "stdout",
     "output_type": "stream",
     "text": [
      "7\n",
      "2 3 1 6 3 6 2\n",
      "1\n"
     ]
    }
   ],
   "source": [
    "def unique(li):\n",
    "    size = len(li)\n",
    "    unique_ = li[0]\n",
    "    for i in range(1,size):\n",
    "        unique_ = unique_ ^ li[i]    \n",
    "    \n",
    "    return unique_\n",
    "\n",
    "\n",
    "N = int(input())\n",
    "li = [ int(x) for x in input().split() ]\n",
    "print(unique(li))"
   ]
  },
  {
   "cell_type": "markdown",
   "metadata": {},
   "source": [
    "### Find Duplicate"
   ]
  },
  {
   "cell_type": "code",
   "execution_count": 54,
   "metadata": {},
   "outputs": [
    {
     "name": "stdout",
     "output_type": "stream",
     "text": [
      "9\n",
      "0 7 2 5 4 7 1 3 6\n",
      "7\n"
     ]
    }
   ],
   "source": [
    "def duplicate(li,n):\n",
    "    li2 = li\n",
    "    for i in range(0,len(li),1):\n",
    "        \n",
    "        count = 0\n",
    "        for j in range(i+1,len(li2),1):\n",
    "            if i == j:\n",
    "                continue\n",
    "            \n",
    "            elif li[i] == li2[j]:\n",
    "                count = count + 1\n",
    "            \n",
    "            j = j + 1\n",
    "        \n",
    "        if count >= 1:\n",
    "            print(li[i])\n",
    "        i = i + 1\n",
    "\n",
    "n = int(input())\n",
    "li = [ int(x) for x in input().split() ]\n",
    "duplicate(li,n)"
   ]
  },
  {
   "cell_type": "markdown",
   "metadata": {},
   "source": [
    "### Find Triplet"
   ]
  },
  {
   "cell_type": "code",
   "execution_count": 3,
   "metadata": {},
   "outputs": [
    {
     "name": "stdout",
     "output_type": "stream",
     "text": [
      "7\n",
      "1 2 3 4 5 6 7 \n",
      "12\n",
      "1 4 7\n",
      "1 5 6\n",
      "2 3 7\n",
      "2 4 6\n",
      "3 4 5\n"
     ]
    }
   ],
   "source": [
    "N = int(input())\n",
    "li = [ int(x) for x in input().split() ]\n",
    "x = int(input())\n",
    "\n",
    "for i in range (len(li)):\n",
    "    for j in range (i+1,len(li)):\n",
    "        for k in range (j+1,len(li)):\n",
    "            if li[i]+li[j]+li[k] == x:\n",
    "                temp_li = []\n",
    "                temp_li.append(li[i])\n",
    "                temp_li.append(li[j])\n",
    "                temp_li.append(li[k])\n",
    "                temp_li.sort()\n",
    "                print(temp_li[0],temp_li[1],temp_li[2])"
   ]
  },
  {
   "cell_type": "code",
   "execution_count": 2,
   "metadata": {},
   "outputs": [
    {
     "name": "stdout",
     "output_type": "stream",
     "text": [
      "7\n",
      "1 2 3 4 5 6 7\n",
      "12\n",
      "1 4 7\n",
      "1 5 6\n",
      "2 3 7\n",
      "2 4 6\n",
      "3 4 5\n"
     ]
    }
   ],
   "source": [
    "def triplet_sum(li1,m):\n",
    "    for i in range(0,len(li1)):\n",
    "        c=li1[i]\n",
    "        for j in range(i+1,len(li1)):\n",
    "            d = li1[j]\n",
    "            for k in range(j+1,len(li1)):\n",
    "                if c+d+li1[k]==m:\n",
    "                    if c>=d and c>=li1[k]:\n",
    "                        if d>=li1[k]:\n",
    "                            print(li1[k],d,c)\n",
    "                        else:\n",
    "                            print(d,li1[k],c)\n",
    "                    elif d>=c and d>=li1[k]:\n",
    "                        if c>=li1[k]:\n",
    "                            print(li1[k],c,d)\n",
    "                        else:\n",
    "                            print(c,li1[k],d)\n",
    "                    elif li1[k]>=d and li1[k]>=c:\n",
    "                        if c>=d:\n",
    "                            print(d,c,li1[k])\n",
    "                        else:\n",
    "                            print(c,d,li1[k])\n",
    "\n",
    "n=int(input())\n",
    "li1 =[int(x) for x in input().split()]\n",
    "li1.sort()\n",
    "m=int(input())\n",
    "triplet_sum(li1,m)"
   ]
  },
  {
   "cell_type": "markdown",
   "metadata": {},
   "source": [
    "### Array Intersection"
   ]
  },
  {
   "cell_type": "code",
   "execution_count": 1,
   "metadata": {},
   "outputs": [
    {
     "name": "stdout",
     "output_type": "stream",
     "text": [
      "4\n",
      "2 6 1 2\n",
      "5\n",
      "1 2 3 4 2\n",
      "2\n",
      "1\n",
      "2\n"
     ]
    }
   ],
   "source": [
    "n =int(input())\n",
    "li_n = [ int(x) for x in input().split() ]\n",
    "m = int(input())\n",
    "li_m = [ int(x) for x in input().split() ]\n",
    "for i in range(0,len(li_n),1):\n",
    "    \n",
    "    for j in range(0,len(li_m),1):\n",
    "        if li_n[i] == li_m[j]:\n",
    "            print(li_n[i])\n",
    "            li_m[j] = -100000\n",
    "            break\n",
    "        j = j + 1\n",
    "    i = i + 1"
   ]
  },
  {
   "cell_type": "markdown",
   "metadata": {},
   "source": [
    "### Sort 0 1"
   ]
  },
  {
   "cell_type": "code",
   "execution_count": 2,
   "metadata": {},
   "outputs": [
    {
     "name": "stdout",
     "output_type": "stream",
     "text": [
      "7\n",
      "0 1 1 0 1 0 1\n",
      "0 0 0 1 1 1 1 "
     ]
    }
   ],
   "source": [
    "N = int(input())\n",
    "li = [ int(x) for x in input().split() ]\n",
    "\n",
    "li.sort()\n",
    "for ele in li:\n",
    "    print(ele,end=\" \")"
   ]
  },
  {
   "cell_type": "code",
   "execution_count": 2,
   "metadata": {},
   "outputs": [
    {
     "name": "stdout",
     "output_type": "stream",
     "text": [
      "7\n",
      "0 1 1 0 1 0 1\n",
      "0 0 0 1 1 1 1 "
     ]
    }
   ],
   "source": [
    "n = int(input())\n",
    "li = [ int(x) for x in input().split() ]\n",
    "length = len(li)\n",
    "countz = 0\n",
    "for x in range(length):\n",
    "    if li[x] ==0:\n",
    "        countz =countz + 1\n",
    "\n",
    "for i in range(countz):\n",
    "    li[i] = 0\n",
    "    \n",
    "for j in range(countz,n):\n",
    "    li[j] = 1\n",
    "    \n",
    "#li.sort()\n",
    "for ele in li:\n",
    "    print(ele,end=\" \")"
   ]
  },
  {
   "cell_type": "markdown",
   "metadata": {},
   "source": [
    "### Pair Sum"
   ]
  },
  {
   "cell_type": "code",
   "execution_count": 3,
   "metadata": {},
   "outputs": [
    {
     "name": "stdout",
     "output_type": "stream",
     "text": [
      "9\n",
      "1 3 6 2 5 4 3 2 4\n",
      "7\n",
      "1 6\n",
      "2 5\n",
      "2 5\n",
      "3 4\n",
      "3 4\n",
      "3 4\n",
      "3 4\n"
     ]
    }
   ],
   "source": [
    "n = int(input())\n",
    "li = [ int(x) for x in input().split() ]\n",
    "x = int(input())\n",
    "li.sort()\n",
    "for i in range(len(li)):\n",
    "    \n",
    "    for j in range(i+1,len(li)):\n",
    "        \n",
    "        if li[i]+li[j] == x:\n",
    "            print(li[i],li[j])\n",
    "            \n",
    "        j=j+1\n",
    "    i=i+1"
   ]
  }
 ],
 "metadata": {
  "kernelspec": {
   "display_name": "Python 3",
   "language": "python",
   "name": "python3"
  },
  "language_info": {
   "codemirror_mode": {
    "name": "ipython",
    "version": 3
   },
   "file_extension": ".py",
   "mimetype": "text/x-python",
   "name": "python",
   "nbconvert_exporter": "python",
   "pygments_lexer": "ipython3",
   "version": "3.7.3"
  }
 },
 "nbformat": 4,
 "nbformat_minor": 2
}
