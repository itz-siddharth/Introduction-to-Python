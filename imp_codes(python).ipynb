{
 "cells": [
  {
   "cell_type": "code",
   "execution_count": 1,
   "metadata": {},
   "outputs": [
    {
     "name": "stdout",
     "output_type": "stream",
     "text": [
      "4\n",
      "4444444\n",
      "4333334\n",
      "4322234\n",
      "4321234\n",
      "4322234\n",
      "4333334\n",
      "4444444\n"
     ]
    }
   ],
   "source": [
    "n = int(input())\n",
    "\n",
    "for i in range(0,n*2-1,1):\n",
    "    for j in range(0, n*2-1,1):\n",
    "        print(n - min(i,j, 2*n-1-1-i,2*n-1-1-j),end=\"\")\n",
    "        \n",
    "    print()    \n"
   ]
  },
  {
   "cell_type": "code",
   "execution_count": 10,
   "metadata": {},
   "outputs": [
    {
     "name": "stdout",
     "output_type": "stream",
     "text": [
      "5\n",
      "1 2 3 4 5 \n",
      "11 12 13 14 15 \n",
      "21 22 23 24 25 \n",
      "16 17 18 19 20 \n",
      "6 7 8 9 10 \n"
     ]
    }
   ],
   "source": [
    "num = int(input())\n",
    "\n",
    "#part 1\n",
    "n=1\n",
    "while n<=num:\n",
    "    print(n,end=' ')\n",
    "    n=n+1\n",
    "print()\n",
    "\n",
    "#part 2\n",
    "n=1\n",
    "adder=num*2\n",
    "while n<(num/2):\n",
    "    j=1\n",
    "    while j<=num:\n",
    "        Seq_Ele=j+(adder*n)\n",
    "        print(Seq_Ele,end=' ')\n",
    "        j=j+1\n",
    "    print()\n",
    "    n=n+1\n",
    "    \n",
    "#part 3    \n",
    "while n<num:\n",
    "    j=1\n",
    "    k=num-n-1\n",
    "    while j<=num:\n",
    "        Seq_Ele=j+(num*((num-n)+k))\n",
    "        print(Seq_Ele,end=' ')\n",
    "        j=j+1\n",
    "    print()\n",
    "    n=n+1\n",
    "    k=k+1"
   ]
  },
  {
   "cell_type": "code",
   "execution_count": 9,
   "metadata": {},
   "outputs": [
    {
     "name": "stdout",
     "output_type": "stream",
     "text": [
      "7\n",
      "   *\n",
      "  ***\n",
      " *****\n",
      "*******\n",
      " *****\n",
      "  ***\n",
      "   *\n"
     ]
    }
   ],
   "source": [
    "n=int(input())\n",
    "\n",
    "n1=int((n+1)/2)\n",
    "n2=int(n/2)\n",
    "#part 1\n",
    "for i in range(1,n1+1,1):\n",
    "    \n",
    "    #spaces\n",
    "    for j in range(1,n1-i+1,1):\n",
    "        print(\" \",end='')\n",
    "    #stars\n",
    "    for k in range(1,2*i,1):\n",
    "        print('*',end='')\n",
    "    print()    \n",
    "\n",
    "#part 2\n",
    "for i in range(n2,0,-1):\n",
    "    #spaces \n",
    "    spaces =1 \n",
    "    l=n2-i+1\n",
    "    while spaces<=l:\n",
    "        print(\" \",end='')\n",
    "        spaces=spaces+1\n",
    "    #stars\n",
    "    stars =1\n",
    "    k=2*i-1\n",
    "    while stars<=k:\n",
    "        print(\"*\",end='')\n",
    "        stars=stars+1\n",
    "    print()  "
   ]
  },
  {
   "cell_type": "code",
   "execution_count": 8,
   "metadata": {},
   "outputs": [
    {
     "name": "stdout",
     "output_type": "stream",
     "text": [
      "6\n",
      "123456\n",
      " 23456\n",
      "  3456\n",
      "   456\n",
      "    56\n",
      "     6\n",
      "    56\n",
      "   456\n",
      "  3456\n",
      " 23456\n",
      "123456\n"
     ]
    }
   ],
   "source": [
    "n = int(input())\n",
    "\n",
    "for a in range(1,n+1,1):\n",
    "    for b in range(0,a-1,1):\n",
    "        print(\" \",end='')\n",
    "    for c in range(a,n+1,1):\n",
    "        print(c,end='') \n",
    "    print()\n",
    "\n",
    "for i in range(n-1,0,-1):\n",
    "    for j in range(1,i,1):\n",
    "        print(' ',end='')\n",
    "    for k in range(i,n+1,1):\n",
    "        print(k,end=\"\")\n",
    "    print()"
   ]
  },
  {
   "cell_type": "code",
   "execution_count": 6,
   "metadata": {},
   "outputs": [
    {
     "name": "stdout",
     "output_type": "stream",
     "text": [
      "5\n",
      "11111\n",
      "0000\n",
      "111\n",
      "00\n",
      "1\n"
     ]
    }
   ],
   "source": [
    "n = int(input())\n",
    "i = 1\n",
    "\n",
    "while i <= n:\n",
    "    j=1\n",
    "    while j <= n-i+1:\n",
    "        if i%2==0:\n",
    "            print('0',end='')\n",
    "        else:\n",
    "            print('1',end='')\n",
    "        \n",
    "        j=j+1\n",
    "    print()    \n",
    "    i = i + 1"
   ]
  },
  {
   "cell_type": "code",
   "execution_count": 24,
   "metadata": {},
   "outputs": [
    {
     "name": "stdout",
     "output_type": "stream",
     "text": [
      "11\n",
      "* \n",
      " * * \n",
      "  * * * \n",
      "   * * * * \n",
      "    * * * * * \n",
      "     * * * * * * \n",
      "    * * * * * \n",
      "   * * * * \n",
      "  * * * \n",
      " * * \n",
      "* \n"
     ]
    }
   ],
   "source": [
    "n = int(input())\n",
    "n1=int((n+1)/2)\n",
    "n2=int(n/2)\n",
    "\n",
    "#upper half\n",
    "i=1\n",
    "while(i<=n1):\n",
    "    \n",
    "    spaces=1\n",
    "    while spaces<=i-1:\n",
    "        print(' ',end=\"\")\n",
    "        spaces=spaces+1\n",
    "    \n",
    "    stars=1\n",
    "    while stars<=i:\n",
    "        print('* ',end=\"\")\n",
    "        stars=stars+1\n",
    "    \n",
    "    print()\n",
    "    i=i+1  \n",
    "    \n",
    "#lower half\n",
    "n2=int(n/2)\n",
    "j=1\n",
    "while j<=n2:\n",
    "    spaces=1\n",
    "    l=n2-j\n",
    "    while spaces<=l:\n",
    "        print(' ',end='')\n",
    "        spaces=spaces+1\n",
    "        \n",
    "    stars=1\n",
    "    m=n2-j+1\n",
    "    while stars<=m:\n",
    "        print('* ',end='')\n",
    "        stars=stars+1\n",
    "        \n",
    "    print()\n",
    "    j=j+1\n",
    "        "
   ]
  },
  {
   "cell_type": "code",
   "execution_count": 19,
   "metadata": {},
   "outputs": [
    {
     "name": "stdout",
     "output_type": "stream",
     "text": [
      "5\n",
      "*0000*0000*\n",
      "0*000*000*0\n",
      "00*00*00*00\n",
      "000*0*0*000\n",
      "0000***0000\n"
     ]
    }
   ],
   "source": [
    "n = int(input())\n",
    "\n",
    "i=1\n",
    "k=1\n",
    "t=1\n",
    "while i<=n: \n",
    "    #part 1\n",
    "    j=1\n",
    "    while j<=n:\n",
    "     \n",
    "        if(j==k):\n",
    "            print('*',end=\"\")\n",
    "        else:\n",
    "            print('0', end=\"\")\n",
    "        \n",
    "        j=j+1      \n",
    "    print('*',end='')\n",
    "    k=k+1    \n",
    "    \n",
    "    #part 2\n",
    "    m=n\n",
    "    while m>=1:\n",
    "        if(m==t):\n",
    "            print(\"*\",end='')\n",
    "        else:\n",
    "            print(\"0\",end=\"\")\n",
    "        m=m-1\n",
    "            \n",
    "    t=t+1\n",
    "    i=i+1\n",
    "    print()\n",
    "   \n",
    "    "
   ]
  },
  {
   "cell_type": "code",
   "execution_count": 4,
   "metadata": {},
   "outputs": [
    {
     "name": "stdout",
     "output_type": "stream",
     "text": [
      "5\n",
      "    1\n",
      "   212\n",
      "  32123\n",
      " 4321234\n",
      "543212345\n"
     ]
    }
   ],
   "source": [
    "n = int(input())\n",
    "i = 1\n",
    "\n",
    "while i <= n:\n",
    " \n",
    "    #part 1 - spaces\n",
    "    spaces = 1\n",
    "    while spaces <= n-i:\n",
    "        print(' ', end='')\n",
    "        spaces = spaces + 1\n",
    "    \n",
    "    #part 2 - decreasing seq.\n",
    "    p = i\n",
    "    while p >= 1:\n",
    "        print(p, end='')\n",
    "        p = p -1\n",
    "        \n",
    "    #part 3 - increasing seq.\n",
    "    j = 2\n",
    "    while j <= i:\n",
    "        print(j, end=\"\")\n",
    "        j = j + 1\n",
    "        \n",
    "    print()\n",
    "    i = i + 1"
   ]
  },
  {
   "cell_type": "code",
   "execution_count": 3,
   "metadata": {},
   "outputs": [
    {
     "name": "stdout",
     "output_type": "stream",
     "text": [
      "4\n",
      "1      1\n",
      "12    21\n",
      "123  321\n",
      "12344321\n"
     ]
    }
   ],
   "source": [
    "n = int(input())\n",
    "i = 1\n",
    "\n",
    "while i <= n:\n",
    "    #part 1 - increasing seq.\n",
    "    j = 1\n",
    "    while j <= i:\n",
    "        print(j, end=\"\")\n",
    "        j = j + 1\n",
    "    \n",
    "    #part 2 - spaces\n",
    "    spaces = 1\n",
    "    s= 2*n-2*i\n",
    "    while spaces <= s:\n",
    "        print(' ', end='')\n",
    "        spaces = spaces + 1\n",
    "    \n",
    "    #part 3 - decreasing seq.\n",
    "    p = i\n",
    "    while p >= 1:\n",
    "        print(p, end='')\n",
    "        p = p -1\n",
    "        \n",
    "    print()\n",
    "    i = i + 1"
   ]
  },
  {
   "cell_type": "code",
   "execution_count": 2,
   "metadata": {},
   "outputs": [
    {
     "name": "stdout",
     "output_type": "stream",
     "text": [
      "4\n",
      "   1\n",
      "  121\n",
      " 12321\n",
      "1234321\n"
     ]
    }
   ],
   "source": [
    "n = int(input())\n",
    "i = 1\n",
    "while i <= n:\n",
    "    spaces = 1\n",
    "    # spaces\n",
    "    while spaces <= n - i:\n",
    "        print(' ', end='')\n",
    "        spaces = spaces + 1\n",
    "    p = 1\n",
    "    j = 1\n",
    "    # increasing seq\n",
    "    while j <= i:\n",
    "        print(p, end='')\n",
    "        j = j + 1\n",
    "        p = p + 1\n",
    "    # decreasing seq\n",
    "    p = i - 1\n",
    "    while p >= 1:\n",
    "        print(p, end='')\n",
    "        p = p -1\n",
    "    print()\n",
    "    i = i + 1"
   ]
  },
  {
   "cell_type": "code",
   "execution_count": 6,
   "metadata": {},
   "outputs": [
    {
     "name": "stdout",
     "output_type": "stream",
     "text": [
      "4\n",
      "A\n",
      "BB\n",
      "CCC\n",
      "DDDD\n"
     ]
    }
   ],
   "source": [
    "n = int(input())\n",
    "i = 1\n",
    "while i <= n:\n",
    "    j = 1\n",
    "    charP = chr(ord('A') + i - 1)\n",
    "    while j <= i:\n",
    "        print(charP, end=\"\")\n",
    "        j = j + 1\n",
    "    print()\n",
    "    i = i + 1   "
   ]
  },
  {
   "cell_type": "code",
   "execution_count": 9,
   "metadata": {},
   "outputs": [
    {
     "name": "stdout",
     "output_type": "stream",
     "text": [
      "4\n",
      "A\n",
      "AB\n",
      "ABC\n",
      "ABCD\n"
     ]
    }
   ],
   "source": [
    "n = int(input())\n",
    "i = 1\n",
    "while i <= n:\n",
    "    j = 1\n",
    "    while j <= i:\n",
    "        charP = chr(ord('A') + j - 1)\n",
    "        print(charP, end=\"\")\n",
    "        j = j + 1\n",
    "    print()\n",
    "    i = i + 1   "
   ]
  },
  {
   "cell_type": "code",
   "execution_count": 10,
   "metadata": {},
   "outputs": [
    {
     "name": "stdout",
     "output_type": "stream",
     "text": [
      "4\n",
      "ABCD\n",
      "ABCD\n",
      "ABCD\n",
      "ABCD\n"
     ]
    }
   ],
   "source": [
    "n = int(input())\n",
    "i = 1\n",
    "while i <= n:\n",
    "    j = 1\n",
    "    while j <= n:\n",
    "        charP = chr(ord('A') + j - 1)\n",
    "        print(charP, end=\"\")\n",
    "        j = j + 1\n",
    "    print()\n",
    "    i = i + 1   "
   ]
  },
  {
   "cell_type": "code",
   "execution_count": 4,
   "metadata": {},
   "outputs": [
    {
     "name": "stdout",
     "output_type": "stream",
     "text": [
      "4\n",
      "1\n",
      "11\n",
      "121\n",
      "1221\n"
     ]
    }
   ],
   "source": [
    "n = int(input())\n",
    "\n",
    "i=1\n",
    "print('1')\n",
    "while i<n:\n",
    "    \n",
    "    print('1', end='')\n",
    "    j=1\n",
    "    while j<i:\n",
    "        print('2',end='')   \n",
    "        j=j+1\n",
    "    print('1', end='')\n",
    "    print()\n",
    "    i = i+1"
   ]
  },
  {
   "cell_type": "code",
   "execution_count": 3,
   "metadata": {},
   "outputs": [
    {
     "name": "stdout",
     "output_type": "stream",
     "text": [
      "4\n",
      "1\n",
      "11\n",
      "202\n",
      "3003\n"
     ]
    }
   ],
   "source": [
    "n = int(input())\n",
    "i=1\n",
    "\n",
    "print('1')\n",
    "while i<n:\n",
    "    print(i, end='')\n",
    "    \n",
    "    j=1\n",
    "    while j<i:\n",
    "        print('0',end='')   \n",
    "        j=j+1\n",
    "    \n",
    "    print(i, end='')\n",
    "    print()\n",
    "    i = i+1"
   ]
  },
  {
   "cell_type": "code",
   "execution_count": 1,
   "metadata": {},
   "outputs": [
    {
     "name": "stdout",
     "output_type": "stream",
     "text": [
      "4\n",
      "1\n",
      "11\n",
      "111\n",
      "1111\n"
     ]
    }
   ],
   "source": [
    "n = int(input())\n",
    "i = 1\n",
    "p = 1\n",
    "while i <= n:\n",
    "    j = 1\n",
    "    while j <= i:\n",
    "        print(p, end=\"\")\n",
    "        j = j + 1\n",
    "    print()\n",
    "    i = i + 1 "
   ]
  },
  {
   "cell_type": "code",
   "execution_count": 2,
   "metadata": {},
   "outputs": [
    {
     "name": "stdout",
     "output_type": "stream",
     "text": [
      "4\n",
      "1234\n",
      "123\n",
      "12\n",
      "1\n"
     ]
    }
   ],
   "source": [
    "n = int(input())\n",
    "i = 1\n",
    "while i <= n:\n",
    "    j=1\n",
    "    while j <= n-i+1:\n",
    "        print(j,end = '')\n",
    "        j=j+1\n",
    "    print()    \n",
    "    i = i + 1"
   ]
  },
  {
   "cell_type": "markdown",
   "metadata": {},
   "source": [
    "# Armstrong Number"
   ]
  },
  {
   "cell_type": "code",
   "execution_count": 5,
   "metadata": {},
   "outputs": [
    {
     "name": "stdout",
     "output_type": "stream",
     "text": [
      "1634\n",
      "true\n"
     ]
    }
   ],
   "source": [
    "# Function to calculate order of the number \n",
    "def order(n):\n",
    "    temp = n\n",
    "    times = 0\n",
    "    while temp > 0:\n",
    "        times += 1\n",
    "        temp //= 10\n",
    "    \n",
    "    return times    \n",
    "        \n",
    "def checkArmstrong(num):\n",
    "    sum = 0\n",
    "    temp = num\n",
    "    o = order(num)\n",
    "    \n",
    "    while temp > 0:\n",
    "        digit = temp % 10\n",
    "        sum = sum + (digit ** o)\n",
    "        temp = temp // 10\n",
    "        \n",
    "    if num == sum:\n",
    "        return True\n",
    "    else:\n",
    "        return False\n",
    "        \n",
    "num = int(input())\n",
    "isArmstrong = checkArmstrong(num)\n",
    "if(isArmstrong):\n",
    "\tprint('true')\n",
    "else:\n",
    "\tprint('false')"
   ]
  },
  {
   "cell_type": "markdown",
   "metadata": {},
   "source": [
    "## Prime Number"
   ]
  },
  {
   "cell_type": "code",
   "execution_count": 8,
   "metadata": {},
   "outputs": [
    {
     "name": "stdout",
     "output_type": "stream",
     "text": [
      "4\n",
      "not prime\n"
     ]
    }
   ],
   "source": [
    "n = int(input())\n",
    "d = 2\n",
    "flag = False\n",
    "while d < n:\n",
    "    if (n % d == 0):\n",
    "        flag = True\n",
    "    d = d + 1\n",
    "\n",
    "if flag:\n",
    "    print(\"not prime\")\n",
    "else:\n",
    "    print(\"prime\")"
   ]
  },
  {
   "cell_type": "code",
   "execution_count": 1,
   "metadata": {},
   "outputs": [
    {
     "name": "stdout",
     "output_type": "stream",
     "text": [
      "10\n",
      "2\n",
      "3\n",
      "5\n",
      "7\n"
     ]
    }
   ],
   "source": [
    "#Prime numbers from 2 to N\n",
    "n = int(input())\n",
    "k = 2\n",
    "while k <= n:\n",
    "    d = 2\n",
    "    flag = False\n",
    "    while d < k:\n",
    "        if (k % d == 0):\n",
    "            flag = True\n",
    "        d = d + 1\n",
    "    if not(flag):\n",
    "        print(k)\n",
    "    k = k + 1"
   ]
  },
  {
   "cell_type": "markdown",
   "metadata": {},
   "source": [
    "## Check whether the number N is the member of fibonacci series or not!\n",
    "### 0,1,1,2,3,5,8,13,21"
   ]
  },
  {
   "cell_type": "code",
   "execution_count": 2,
   "metadata": {},
   "outputs": [
    {
     "name": "stdout",
     "output_type": "stream",
     "text": [
      "8\n",
      "0\n",
      "1\n",
      "1\n",
      "2\n",
      "3\n",
      "5\n",
      "It is a member of fibonacci series\n"
     ]
    }
   ],
   "source": [
    "N = int(input())\n",
    "a = 0\n",
    "b = 1\n",
    "\n",
    "while a < N:\n",
    "    print(a)\n",
    "    c = a + b\n",
    "    a = b\n",
    "    b = c\n",
    "if a == N:\n",
    "    print(\"It is a member of fibonacci series\")\n",
    "else:\n",
    "    print(\"Not a member of fibonacci series\")\n"
   ]
  },
  {
   "cell_type": "markdown",
   "metadata": {},
   "source": [
    "## Nth Fibonacci number\n",
    "\n",
    "Nth term of fibonacci series F(n) is calculated using following formula -\n",
    "    F(n) = F(n-1) + F(n-2), \n",
    "Provided N you have to find out the Nth Fibonacci Number. Also F(1) = F(2) = 1.\n",
    "\n",
    "Fibonacci numbers are defined by the sequence f(0) = 0, f(1) = 1 and f(n) = f(n – 1) + f(n – 2) for n >= 2. The program prompts the user to enter n and it prints the nth Fibonacci number."
   ]
  },
  {
   "cell_type": "code",
   "execution_count": 4,
   "metadata": {},
   "outputs": [
    {
     "name": "stdout",
     "output_type": "stream",
     "text": [
      "4\n",
      "3\n"
     ]
    }
   ],
   "source": [
    "def fibonacci(n):\n",
    "    if n <= 1:\n",
    "        return n\n",
    "    else:\n",
    "        return fibonacci(n-1) + fibonacci(n-2)\n",
    "\n",
    "print(fibonacci(int(input())))"
   ]
  },
  {
   "cell_type": "markdown",
   "metadata": {},
   "source": [
    "### Second approach of Nth term of fibonacci series"
   ]
  },
  {
   "cell_type": "code",
   "execution_count": 5,
   "metadata": {},
   "outputs": [
    {
     "name": "stdout",
     "output_type": "stream",
     "text": [
      "1\n",
      "1\n"
     ]
    }
   ],
   "source": [
    "n = int(input())\n",
    "c = 0\n",
    "a = 0\n",
    "b = 1\n",
    "\n",
    "while c < n-1:\n",
    "    nth = a + b\n",
    "    a = b\n",
    "    b = nth\n",
    "    c = c + 1\n",
    "print(nth)    "
   ]
  },
  {
   "cell_type": "markdown",
   "metadata": {},
   "source": [
    "## Sum of even & odd digits of a number\n",
    "\n",
    "Write a program to input an integer N and print the sum of all its even digits and sum of all its odd digits separately.\n",
    "Digits means numbers not the places. That is, if the given integer is \"13245\", even digits are 2 & 4 and odd digits are 1, 3 & 5.\n",
    "\n",
    "**Algorithm**\n",
    "\n",
    "1.Get the number\n",
    "2.Declare a variable to store the sum and set it to 0\n",
    "3.Repeat the next two steps till the number is not 0\n",
    "4.Get the rightmost digit of the number with help of remainder ‘%’ operator by dividing it with 10 and add it to sum.\n",
    "5.Divide the number by 10 with help of ‘/’ operator\n",
    "6.Print or return the sum"
   ]
  },
  {
   "cell_type": "code",
   "execution_count": 1,
   "metadata": {},
   "outputs": [
    {
     "name": "stdout",
     "output_type": "stream",
     "text": [
      "1234\n",
      "6   4\n"
     ]
    }
   ],
   "source": [
    "n = int(input())\n",
    "soe = 0 \n",
    "sod = 0\n",
    "\n",
    "while n!=0:\n",
    "    dig=n%10\n",
    "    if dig%2 == 0:\n",
    "        soe = soe+dig\n",
    "    else:\n",
    "        sod = sod+dig\n",
    "    n = int(n/10)\n",
    "print(soe, \" \", sod)"
   ]
  },
  {
   "cell_type": "markdown",
   "metadata": {},
   "source": [
    "## Palindrome number\n",
    "\n",
    "Write a program to determine if given number is palindrome or not. Print true if it is palindrome, false otherwise.\n",
    "Palindrome are the numbers for which reverse is exactly same as the original one. For eg. 121\n",
    "\n",
    "**Logic**\n",
    "1.\tUser must first enter the value of the integer and store it in a variable.\n",
    "2.\tThe value of the integer is then stored in another temporary variable.\n",
    "3.\tThe while loop is used and the last digit of the number is obtained by using the modulus operator.\n",
    "4.\tThe last digit is then stored at the one’s place, second last at the ten’s place and so on.\n",
    "5.\tThe last digit is then removed by truly dividing the number with 10.\n",
    "6.\tThis loop terminates when the value of the number is 0.\n",
    "7.\tThe reverse of the number is then compared with the integer value stored in the temporary variable.\n",
    "8.\tIf both are equal, the number is a palindrome.\n",
    "9.\tIf both aren’t equal, the number isn’t a palindrome.\n",
    "10.\tThe final result is then printed."
   ]
  },
  {
   "cell_type": "code",
   "execution_count": 8,
   "metadata": {},
   "outputs": [
    {
     "name": "stdout",
     "output_type": "stream",
     "text": [
      "121\n",
      "true\n"
     ]
    }
   ],
   "source": [
    "n=int(input())\n",
    "temp=n\n",
    "rev=0\n",
    "while(n>0):\n",
    "    dig=n%10\n",
    "    rev=rev*10+dig\n",
    "    n=n//10\n",
    "if(temp==rev):\n",
    "    print(\"true\")\n",
    "else:\n",
    "    print(\"false\")"
   ]
  },
  {
   "cell_type": "markdown",
   "metadata": {},
   "source": [
    "## Fahrenheit to Celsius\n",
    "Given three values - Start Fahrenheit Value (S), End Fahrenheit value (E) and Step Size (W), you need to convert all Fahrenheit values from Start to End at the gap of W, into their corresponding Celsius values and print the table."
   ]
  },
  {
   "cell_type": "code",
   "execution_count": 1,
   "metadata": {},
   "outputs": [
    {
     "name": "stdout",
     "output_type": "stream",
     "text": [
      "0\n",
      "100\n",
      "20\n",
      "0 \t -17\n",
      "20 \t -6\n",
      "40 \t 4\n",
      "60 \t 15\n",
      "80 \t 26\n",
      "100 \t 37\n"
     ]
    }
   ],
   "source": [
    "S = int(input())\n",
    "E = int(input())\n",
    "W = int(input())\n",
    "\n",
    "while S <= E: \n",
    "    C = int((S - 32) * 5/9)\n",
    "    print(S ,\"\\t\", C)\n",
    "    S = S + W"
   ]
  },
  {
   "cell_type": "markdown",
   "metadata": {},
   "source": [
    "## Calculator\n",
    "Write a program that works as a simple calculator. It reads an integer for choice.\n",
    "1. If the choice is 1, 2 integers are taken for input and their sum is printed.\n",
    "2. If the choice is 2, 2 integers are taken for input and their difference is printed.\n",
    "3. If  the choice is 3, 2 integers are taken for input and their product is printed.\n",
    "4. If  the choice is 4, 2 integers are taken for input and their quotient is printed.\n",
    "5. If  the choice is 5, 2 integers are taken for input and their remainder is printed.\n",
    "6. If the choice is 6, the program exits, \n",
    "For any other choice, print \"Invalid Operation\" and ask for choice again."
   ]
  },
  {
   "cell_type": "code",
   "execution_count": 3,
   "metadata": {},
   "outputs": [
    {
     "name": "stdout",
     "output_type": "stream",
     "text": [
      "1\n",
      "4\n",
      "5\n",
      "9\n",
      "2\n",
      "2\n",
      "1\n",
      "1\n",
      "6\n"
     ]
    }
   ],
   "source": [
    "# Write your code here\n",
    "flag=True\n",
    "\n",
    "while flag:\n",
    "    \n",
    "    choice = int(input())\n",
    "    if choice==1:\n",
    "        num1 = int(input())\n",
    "        num2 = int(input())\n",
    "        print(int(num1+num2))\n",
    "        \n",
    "    elif choice==2:\n",
    "        num1 = int(input())\n",
    "        num2 = int(input())\n",
    "        print(int(num1-num2))\n",
    "    \n",
    "    elif choice==3:\n",
    "        num1 = int(input())\n",
    "        num2 = int(input())\n",
    "        print(int(num1*num2))\n",
    "        \n",
    "    elif choice==4:\n",
    "        num1 = int(input())\n",
    "        num2 = int(input())\n",
    "        print(int(num1/num2))\n",
    "\n",
    "    elif choice==5:\n",
    "        num1 = int(input())\n",
    "        num2 = int(input())\n",
    "        print(int(num1%num2))\n",
    "    \n",
    "    elif choice==6:\n",
    "        flag = False\n",
    "        \n",
    "    else:\n",
    "        print(\"Invalid Operation\")"
   ]
  },
  {
   "cell_type": "markdown",
   "metadata": {},
   "source": [
    "## Reverse of a number\n",
    "Write a program to generate the reverse of a given number N. Print the corresponding reverse number."
   ]
  },
  {
   "cell_type": "code",
   "execution_count": 4,
   "metadata": {},
   "outputs": [
    {
     "name": "stdout",
     "output_type": "stream",
     "text": [
      "1234\n",
      "4321\n"
     ]
    }
   ],
   "source": [
    "\n",
    "r = 0\n",
    "n = int(input())    \n",
    "while n>0:    \n",
    "    rem = int(n%10)    \n",
    "    r = r*10 + rem   \n",
    "    n = n//10      \n",
    "    \n",
    "print(r)    \n",
    "    \n"
   ]
  },
  {
   "cell_type": "markdown",
   "metadata": {},
   "source": [
    "## Print prime numbers from 2 to n"
   ]
  },
  {
   "cell_type": "code",
   "execution_count": 11,
   "metadata": {},
   "outputs": [
    {
     "name": "stdout",
     "output_type": "stream",
     "text": [
      "100\n",
      "2\n",
      "3\n",
      "5\n",
      "7\n",
      "11\n",
      "13\n",
      "17\n",
      "19\n",
      "23\n",
      "29\n",
      "31\n",
      "37\n",
      "41\n",
      "43\n",
      "47\n",
      "53\n",
      "59\n",
      "61\n",
      "67\n",
      "71\n",
      "73\n",
      "79\n",
      "83\n",
      "89\n",
      "97\n"
     ]
    }
   ],
   "source": [
    "n = int(input())\n",
    "k = 2\n",
    "while k <= n:\n",
    "    d = 2\n",
    "    flag = False\n",
    "    while d < k:\n",
    "        if (k % d == 0):\n",
    "            flag = True\n",
    "            break\n",
    "        d = d + 1\n",
    "    if not(flag):\n",
    "        print(k)\n",
    "    k = k + 1"
   ]
  },
  {
   "cell_type": "markdown",
   "metadata": {},
   "source": [
    "## Sum of Even Numbers\n",
    "\n",
    "Given a number N, print sum of all even numbers from 1 to N."
   ]
  },
  {
   "cell_type": "code",
   "execution_count": 4,
   "metadata": {},
   "outputs": [
    {
     "name": "stdout",
     "output_type": "stream",
     "text": [
      "6\n",
      "12\n"
     ]
    }
   ],
   "source": [
    "n = int(input())\n",
    "Sum = 0\n",
    "i = 0\n",
    "\n",
    "while i<=n :\n",
    "    if i%2 == 0:\n",
    "        Sum = Sum + i\n",
    "        i = i + 1\n",
    "    else:\n",
    "        i = i + 1\n",
    "   \n",
    "print(Sum)"
   ]
  },
  {
   "cell_type": "markdown",
   "metadata": {},
   "source": [
    "## Sum of n numbers\n",
    "\n",
    "Given an integer n, find and print the sum of numbers from 1 to n."
   ]
  },
  {
   "cell_type": "code",
   "execution_count": 5,
   "metadata": {},
   "outputs": [
    {
     "name": "stdout",
     "output_type": "stream",
     "text": [
      "10\n",
      "55\n"
     ]
    }
   ],
   "source": [
    "n = int(input())\n",
    "sum = 0\n",
    "i = 1\n",
    "\n",
    "while i<=n :\n",
    "    sum = sum + i\n",
    "    i = i + 1\n",
    "   \n",
    "print(sum)"
   ]
  },
  {
   "cell_type": "markdown",
   "metadata": {},
   "source": [
    "## Check number\n",
    "\n",
    "Given an integer n, find if n is positive, negative or 0.\n",
    "If n is positive, print \"Positive\"\n",
    "If n is negative, print \"Negative\"\n",
    "And if n is equal to 0, print \"Zero\"."
   ]
  },
  {
   "cell_type": "code",
   "execution_count": 6,
   "metadata": {},
   "outputs": [
    {
     "name": "stdout",
     "output_type": "stream",
     "text": [
      "10\n",
      "Positive\n"
     ]
    }
   ],
   "source": [
    "n = int(input())\n",
    "\n",
    "if n>0 :\n",
    "    print('Positive')\n",
    "elif n<0 :\n",
    "    print('Negative')\n",
    "else :\n",
    "    print('Zero')\n",
    "    "
   ]
  },
  {
   "cell_type": "markdown",
   "metadata": {},
   "source": [
    "## Rectangular Area\n",
    "\n",
    "You are given a rectangle in a plane. The corner coordinates of this rectangle is provided to you. You have to print the amount of area of the plane covered by this rectangles.\n",
    "The end coordinates are provided as four integral values: x1, y1, x2, y2. It is given that x1 < x2 and y1 < y2.\n",
    "Input format:\n",
    "The first line of input contains an integer x1 (1 <= x1 <= 10)\n",
    "The second line of input contains an integer y1 (1 <= y1 <= 10) \n",
    "The third line of input contains an integer x2 (1 <= x2 <= 10)\n",
    "The fourth line of input contains an integer y2 (1 <= y2 <= 10) "
   ]
  },
  {
   "cell_type": "code",
   "execution_count": 7,
   "metadata": {},
   "outputs": [
    {
     "name": "stdout",
     "output_type": "stream",
     "text": [
      "1\n",
      "1\n",
      "3\n",
      "3\n",
      "4\n"
     ]
    }
   ],
   "source": [
    "x1 = int(input())\n",
    "y1 = int(input())\n",
    "x2= int(input())\n",
    "y2 = int(input())\n",
    "\n",
    "l = x2-x1\n",
    "b = y2-y1\n",
    "\n",
    "print(l*b)"
   ]
  },
  {
   "cell_type": "markdown",
   "metadata": {},
   "source": [
    "## Simple Interest"
   ]
  },
  {
   "cell_type": "code",
   "execution_count": 5,
   "metadata": {},
   "outputs": [
    {
     "data": {
      "text/plain": [
       "24"
      ]
     },
     "execution_count": 5,
     "metadata": {},
     "output_type": "execute_result"
    }
   ],
   "source": [
    "p = 100\n",
    "r = 12\n",
    "t = 2\n",
    "# si = p * r * t // 100\n",
    "#si = t//100 * r * p\n",
    "si = (p * r * t)//100\n",
    "si"
   ]
  }
 ],
 "metadata": {
  "kernelspec": {
   "display_name": "Python 3",
   "language": "python",
   "name": "python3"
  },
  "language_info": {
   "codemirror_mode": {
    "name": "ipython",
    "version": 3
   },
   "file_extension": ".py",
   "mimetype": "text/x-python",
   "name": "python",
   "nbconvert_exporter": "python",
   "pygments_lexer": "ipython3",
   "version": "3.7.3"
  }
 },
 "nbformat": 4,
 "nbformat_minor": 2
}
