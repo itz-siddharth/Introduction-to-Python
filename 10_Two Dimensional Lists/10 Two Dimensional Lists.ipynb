{
 "cells": [
  {
   "cell_type": "markdown",
   "metadata": {},
   "source": [
    "## Intro To Two Dimensional Lists\n",
    "## How Two Dimensional Lists Are Stored\n",
    "\n",
    "2-D Lists <br>\n",
    "It is a list of lists."
   ]
  },
  {
   "cell_type": "code",
   "execution_count": 7,
   "metadata": {},
   "outputs": [
    {
     "name": "stdout",
     "output_type": "stream",
     "text": [
      "8\n"
     ]
    }
   ],
   "source": [
    "li = [[1,2,3],[4,5,6],[7,8,9]]\n",
    "print(li[2][1])"
   ]
  },
  {
   "cell_type": "code",
   "execution_count": 8,
   "metadata": {},
   "outputs": [
    {
     "ename": "IndexError",
     "evalue": "list index out of range",
     "output_type": "error",
     "traceback": [
      "\u001b[1;31m---------------------------------------------------------------------------\u001b[0m",
      "\u001b[1;31mIndexError\u001b[0m                                Traceback (most recent call last)",
      "\u001b[1;32m<ipython-input-8-47fe00ca4dff>\u001b[0m in \u001b[0;36m<module>\u001b[1;34m\u001b[0m\n\u001b[0;32m      1\u001b[0m \u001b[0mli\u001b[0m \u001b[1;33m=\u001b[0m \u001b[1;33m[\u001b[0m\u001b[1;33m[\u001b[0m\u001b[1;36m1\u001b[0m\u001b[1;33m,\u001b[0m\u001b[1;36m2\u001b[0m\u001b[1;33m,\u001b[0m\u001b[1;36m3\u001b[0m\u001b[1;33m]\u001b[0m\u001b[1;33m,\u001b[0m\u001b[1;33m[\u001b[0m\u001b[1;36m4\u001b[0m\u001b[1;33m,\u001b[0m\u001b[1;36m5\u001b[0m\u001b[1;33m,\u001b[0m\u001b[1;36m6\u001b[0m\u001b[1;33m]\u001b[0m\u001b[1;33m,\u001b[0m\u001b[1;33m[\u001b[0m\u001b[1;36m7\u001b[0m\u001b[1;33m,\u001b[0m\u001b[1;36m8\u001b[0m\u001b[1;33m,\u001b[0m\u001b[1;36m9\u001b[0m\u001b[1;33m]\u001b[0m\u001b[1;33m]\u001b[0m\u001b[1;33m\u001b[0m\u001b[1;33m\u001b[0m\u001b[0m\n\u001b[1;32m----> 2\u001b[1;33m \u001b[0mprint\u001b[0m\u001b[1;33m(\u001b[0m\u001b[0mli\u001b[0m\u001b[1;33m[\u001b[0m\u001b[1;36m1\u001b[0m\u001b[1;33m]\u001b[0m\u001b[1;33m[\u001b[0m\u001b[1;36m3\u001b[0m\u001b[1;33m]\u001b[0m\u001b[1;33m)\u001b[0m\u001b[1;33m\u001b[0m\u001b[1;33m\u001b[0m\u001b[0m\n\u001b[0m",
      "\u001b[1;31mIndexError\u001b[0m: list index out of range"
     ]
    }
   ],
   "source": [
    "li = [[1,2,3],[4,5,6],[7,8,9]]\n",
    "print(li[1][3])"
   ]
  },
  {
   "cell_type": "markdown",
   "metadata": {},
   "source": [
    "## Jagged Lists"
   ]
  },
  {
   "cell_type": "code",
   "execution_count": 9,
   "metadata": {},
   "outputs": [
    {
     "name": "stdout",
     "output_type": "stream",
     "text": [
      "[7, 8, 9]\n"
     ]
    }
   ],
   "source": [
    "li = [[1,2,3,4],[5,6],[7,8,9]]\n",
    "print(li[2])"
   ]
  },
  {
   "cell_type": "code",
   "execution_count": 10,
   "metadata": {},
   "outputs": [
    {
     "ename": "IndexError",
     "evalue": "list index out of range",
     "output_type": "error",
     "traceback": [
      "\u001b[1;31m---------------------------------------------------------------------------\u001b[0m",
      "\u001b[1;31mIndexError\u001b[0m                                Traceback (most recent call last)",
      "\u001b[1;32m<ipython-input-10-e9004c7f6a97>\u001b[0m in \u001b[0;36m<module>\u001b[1;34m\u001b[0m\n\u001b[0;32m      1\u001b[0m \u001b[0mli\u001b[0m \u001b[1;33m=\u001b[0m \u001b[1;33m[\u001b[0m\u001b[1;33m[\u001b[0m\u001b[1;36m1\u001b[0m\u001b[1;33m,\u001b[0m\u001b[1;36m2\u001b[0m\u001b[1;33m,\u001b[0m\u001b[1;36m3\u001b[0m\u001b[1;33m,\u001b[0m\u001b[1;36m4\u001b[0m\u001b[1;33m]\u001b[0m\u001b[1;33m,\u001b[0m\u001b[1;33m[\u001b[0m\u001b[1;36m5\u001b[0m\u001b[1;33m,\u001b[0m\u001b[1;36m6\u001b[0m\u001b[1;33m]\u001b[0m\u001b[1;33m,\u001b[0m\u001b[1;33m[\u001b[0m\u001b[1;36m7\u001b[0m\u001b[1;33m,\u001b[0m\u001b[1;36m8\u001b[0m\u001b[1;33m,\u001b[0m\u001b[1;36m9\u001b[0m\u001b[1;33m]\u001b[0m\u001b[1;33m]\u001b[0m\u001b[1;33m\u001b[0m\u001b[1;33m\u001b[0m\u001b[0m\n\u001b[1;32m----> 2\u001b[1;33m \u001b[0mprint\u001b[0m\u001b[1;33m(\u001b[0m\u001b[0mli\u001b[0m\u001b[1;33m[\u001b[0m\u001b[1;36m1\u001b[0m\u001b[1;33m]\u001b[0m\u001b[1;33m[\u001b[0m\u001b[1;36m3\u001b[0m\u001b[1;33m]\u001b[0m\u001b[1;33m)\u001b[0m\u001b[1;33m\u001b[0m\u001b[1;33m\u001b[0m\u001b[0m\n\u001b[0m",
      "\u001b[1;31mIndexError\u001b[0m: list index out of range"
     ]
    }
   ],
   "source": [
    "li = [[1,2,3,4],[5,6],[7,8,9]]\n",
    "print(li[1][3])"
   ]
  },
  {
   "cell_type": "markdown",
   "metadata": {},
   "source": [
    "## List Comprehension"
   ]
  },
  {
   "cell_type": "code",
   "execution_count": 11,
   "metadata": {},
   "outputs": [
    {
     "name": "stdout",
     "output_type": "stream",
     "text": [
      "[0, 1, 4, 9, 16]\n"
     ]
    }
   ],
   "source": [
    "li = [ele**2 for ele in range(5)]\n",
    "print(li)"
   ]
  },
  {
   "cell_type": "code",
   "execution_count": 12,
   "metadata": {},
   "outputs": [
    {
     "name": "stdout",
     "output_type": "stream",
     "text": [
      "[0, 9, 36, 81]\n"
     ]
    }
   ],
   "source": [
    "li = [ele**2 for ele in range(10) if ele%3 ==0]\n",
    "print(li)"
   ]
  },
  {
   "cell_type": "code",
   "execution_count": 13,
   "metadata": {},
   "outputs": [
    {
     "name": "stdout",
     "output_type": "stream",
     "text": [
      "[[0, 0, 0, 0], [0, 1, 2, 3], [0, 2, 4, 6]]\n"
     ]
    }
   ],
   "source": [
    "li = [[ i*j for j in range(4)] for i in range(3)]\n",
    "print(li)"
   ]
  },
  {
   "cell_type": "markdown",
   "metadata": {},
   "source": [
    "## Input Of Two Dimensional Lists\n",
    "## Input Of Two Dimensional Lists - 2\n",
    "## Printing Two Dimensional Lists"
   ]
  },
  {
   "cell_type": "markdown",
   "metadata": {},
   "source": [
    "# Row Wise Sum\n",
    "Given a 2D integer array of size M*N, find and print the sum of ith row elements separated by space.\n",
    "#### Input Format :\n",
    "Line 1 : Two integers M and N (separated by space) \n",
    "Line 2 : Matrix elements of each row (separated by space)\n",
    "#### Output Format :\n",
    "Sum of every ith row elements (separated by space)\n",
    "#### Constraints :\n",
    "1 <= M, N <= 10^3\n",
    "#### Sample Input :\n",
    "4 2 \n",
    "1 2 3 4 5 6 7 8\n",
    "#### Sample Output :\n",
    "3 7 11 15 "
   ]
  },
  {
   "cell_type": "code",
   "execution_count": 2,
   "metadata": {},
   "outputs": [
    {
     "name": "stdout",
     "output_type": "stream",
     "text": [
      "4 2 \n",
      "1 2 3 4 5 6 7 8\n",
      "3 7 11 15\n"
     ]
    }
   ],
   "source": [
    "def rowWiseSum(arr):\n",
    "    # Please add your code here\n",
    "    sumarr=[]\n",
    "    for row in arr:\n",
    "        sum = 0\n",
    "        for ele in row:\n",
    "            sum= sum + ele\n",
    "        sumarr.append(sum)\n",
    "    \n",
    "    return sumarr\n",
    "#Main\n",
    "m, n=(int(i) for i in input().strip().split(' '))\n",
    "l=[int(i) for i in input().strip().split(' ')]\n",
    "arr = [ [ l[(j*n)+i] for i in range(n)] for j in range(m)]\n",
    "l=rowWiseSum(arr)\n",
    "print(*l)\n"
   ]
  },
  {
   "cell_type": "markdown",
   "metadata": {},
   "source": [
    "## Largest Column Sum In Two Dimensional List"
   ]
  },
  {
   "cell_type": "code",
   "execution_count": 6,
   "metadata": {},
   "outputs": [
    {
     "name": "stdout",
     "output_type": "stream",
     "text": [
      "1 5 9 2 6 10 3 7 11 4 8 12 "
     ]
    }
   ],
   "source": [
    "li=[[1,2,3,4],[5,6,7,8],[9,10,11,12]]\n",
    "for j in range(4):\n",
    "    for ele in li:\n",
    "        print(ele[j],end = \" \")"
   ]
  },
  {
   "cell_type": "markdown",
   "metadata": {},
   "source": [
    "# Largest Row or Column\n",
    "Given an NxM 2D array, you need to find out which row or column has largest sum (sum of its elements) overall amongst all rows and columns.\n",
    "#### Input Format :\n",
    " Line 1 : 2 integers N and M respectively, separated by space \n",
    " Line 2: Single line having N*M elements entered in row wise manner, each separated by space.\n",
    "#### Output Format :\n",
    " If row sum is maximum then - \"row\" row_num max_sum\n",
    " If column sum is maximum then - \"column\" col_num max_sum<br>\n",
    "Note : If there are more than one rows/columns with maximum sum consider the row/column that comes first. And if ith row and jth column has same sum (which is largest), consider the ith row as answer.\n",
    "#### Sample Input 1 :\n",
    "2 2 \n",
    "1 1 1 1\n",
    "#### Sample Output 1 :\n",
    "row 0 2\n",
    "#### Sample Input 2 :\n",
    "3 3\n",
    "3 6 9 1 4 7 2 8 9\n",
    "#### Sample Output 2 :\n",
    "column 2 25"
   ]
  },
  {
   "cell_type": "code",
   "execution_count": 10,
   "metadata": {},
   "outputs": [
    {
     "name": "stdout",
     "output_type": "stream",
     "text": [
      "2 2 \n",
      "1 1 1 1\n",
      "['row', 0, 2]\n"
     ]
    }
   ],
   "source": [
    "def largestRowCol(arr):\n",
    "    rows = len(arr)\n",
    "    cols = len(arr[0])\n",
    "    sumRow = [0] * rows\n",
    "    sumCol = [0] * cols\n",
    "    for i in range(rows):\n",
    "        for j in range(cols):\n",
    "            sumRow[i] += arr[i][j]\n",
    "            sumCol[j] += arr[i][j]\n",
    "            \n",
    "    #Assume row 0 has max sum\n",
    "    l = ['row',0,sumRow[0]]\n",
    "    for i in range(rows):\n",
    "        if sumRow[i] > l[2]:\n",
    "            l[2] = sumRow[i]\n",
    "            l[1] = i\n",
    "    for j in range(cols):\n",
    "        if sumCol[j] > l[2]:\n",
    "            l[2] = sumCol[j]\n",
    "            l[1] = j\n",
    "            l[0] = 'column'\n",
    "    return l\n",
    "\n",
    "#Main\n",
    "m, n=(int(i) for i in input().strip().split(' '))\n",
    "l=[int(i) for i in input().strip().split(' ')]\n",
    "arr = [ [ l[(j*n)+i] for i in range(n)] for j in range(m)]\n",
    "l = largestRowCol(arr)\n",
    "print(l)"
   ]
  },
  {
   "cell_type": "code",
   "execution_count": 12,
   "metadata": {},
   "outputs": [
    {
     "name": "stdout",
     "output_type": "stream",
     "text": [
      "3 3\n",
      "3 6 9 1 4 7 2 8 9\n",
      "column 2 25\n"
     ]
    }
   ],
   "source": [
    "def largestRowCol(arr):\n",
    "    # Please add your code here\n",
    "    n=len(arr) #n rows\n",
    "    m=len(arr[0]) #m columns\n",
    "    max_col_sum=-1\n",
    "    max_col_index=-1\n",
    "    max_row_sum=-1\n",
    "    max_row_index=-1\n",
    "    #check largest column\n",
    "    for j in range(m):\n",
    "        sum=0 \n",
    "        for ele in arr:\n",
    "            sum+=ele[j]\n",
    "        if sum > max_col_sum:\n",
    "            max_col_index=j\n",
    "            max_col_sum=sum\n",
    "    #check largest row        \n",
    "    for row in range(n):\n",
    "        sum=0\n",
    "        for column in range(n):\n",
    "            sum+=arr[row][column]\n",
    "        if sum > max_row_sum:\n",
    "            max_row_index=row\n",
    "            max_row_sum=sum\n",
    "     \n",
    "    #check largest\n",
    "    if max_row_sum > max_col_sum:\n",
    "        print(\"row\",max_row_index,max_row_sum)\n",
    "    elif max_row_sum == max_col_sum:\n",
    "        print(\"row\",max_row_index,max_row_sum)   \n",
    "    else:\n",
    "        print(\"column\",max_col_index,max_col_sum)\n",
    "                  \n",
    "#Main\n",
    "m, n=(int(i) for i in input().strip().split(' '))\n",
    "l=[int(i) for i in input().strip().split(' ')]\n",
    "arr = [ [ l[(j*n)+i] for i in range(n)] for j in range(m)]\n",
    "largestRowCol(arr)"
   ]
  },
  {
   "cell_type": "markdown",
   "metadata": {},
   "source": [
    "# Wave Print\n",
    "Given a two dimensional n*m array, print the array in a sine wave order. i.e. print the first column top to bottom, next column bottom to top and so on.<br>\n",
    "Note : Print the elements separated by space.\n",
    "#### Input format :\n",
    "n, m, array elements (separated by space)\n",
    "#### Sample Input :\n",
    "3 4 1  2  3  4 5  6  7  8 9 10 11 12\n",
    "#### Sample Output :\n",
    "1 5 9 10 6 2 3 7 11 12 8 4"
   ]
  },
  {
   "cell_type": "code",
   "execution_count": 1,
   "metadata": {},
   "outputs": [
    {
     "name": "stdout",
     "output_type": "stream",
     "text": [
      "3 4 1  2  3  4 5  6  7  8 9 10 11 12\n",
      "1 5 9 10 6 2 3 7 11 12 8 4 "
     ]
    }
   ],
   "source": [
    "def wavePrint(arr):\n",
    "    n=len(arr)\n",
    "    m=len(arr[0])\n",
    "    dir=0 # o for top , 1 for bottom\n",
    "    \n",
    "    for j in range(m):\n",
    "        if dir == 0:\n",
    "            i=0\n",
    "            while i < n:\n",
    "                print(arr[i][j],end=\" \")\n",
    "                i=i+1\n",
    "            dir=1\n",
    "        else:\n",
    "            i=n-1\n",
    "            while i >=0:\n",
    "                print(arr[i][j],end=\" \")\n",
    "                i=i-1\n",
    "            dir=0\n",
    "#Main\n",
    "str=input().split()\n",
    "m, n=int(str[0]),int(str[1])\n",
    "\n",
    "l=str[2:]\n",
    "arr = [ [ int(l[(j*n)+i]) for i in range(n)] for j in range(m)]\n",
    "wavePrint(arr)"
   ]
  },
  {
   "cell_type": "markdown",
   "metadata": {},
   "source": [
    "# Spiral Print\n",
    "\n",
    "Given an N*M 2D array, print it in spiral form. That is, first you need to print the 1st row, then last column, then last row and then first column and so on.<br>\n",
    "Print every element only once.\n",
    "#### Input format :\n",
    "Line 1 : N and M, No. of rows & No. of columns (separated by space) followed by N*M  elements in row wise fashion.\n",
    "#### Sample Input :\n",
    "4 4 1 2 3 4 5 6 7 8 9 10 11 12 13 14 15 16\n",
    "#### Sample Output :\n",
    "1 2 3 4 8 12 16 15 14 13 9 5 6 7 11 10"
   ]
  },
  {
   "cell_type": "code",
   "execution_count": 3,
   "metadata": {},
   "outputs": [
    {
     "name": "stdout",
     "output_type": "stream",
     "text": [
      " 4 4 1 2 3 4 5 6 7 8 9 10 11 12 13 14 15 16\n",
      "1 2 3 4 8 12 16 15 14 13 9 5 6 7 11 10 "
     ]
    }
   ],
   "source": [
    "def spiralPrint(a,m,n):\n",
    "    # Please add your code here\n",
    "    k = 0; l = 0\n",
    "  \n",
    "    ''' k - starting row index \n",
    "        m - ending row index \n",
    "        l - starting column index \n",
    "        n - ending column index \n",
    "        i - iterator '''\n",
    "      \n",
    "  \n",
    "    while (k < m and l < n) : \n",
    "          \n",
    "        # Print the first row from \n",
    "        # the remaining rows  \n",
    "        for i in range(l, n) : \n",
    "            print(a[k][i], end = \" \") \n",
    "              \n",
    "        k += 1\n",
    "  \n",
    "        # Print the last column from \n",
    "        # the remaining columns  \n",
    "        for i in range(k, m) : \n",
    "            print(a[i][n - 1], end = \" \") \n",
    "              \n",
    "        n -= 1\n",
    "  \n",
    "        # Print the last row from \n",
    "        # the remaining rows  \n",
    "        if ( k < m) : \n",
    "              \n",
    "            for i in range(n - 1, (l - 1), -1) : \n",
    "                print(a[m - 1][i], end = \" \") \n",
    "              \n",
    "            m -= 1\n",
    "          \n",
    "        # Print the first column from \n",
    "        # the remaining columns  \n",
    "        if (l < n) : \n",
    "            for i in range(m - 1, k - 1, -1) : \n",
    "                print(a[i][l], end = \" \") \n",
    "              \n",
    "            l += 1\n",
    "\n",
    "#Main\n",
    "str=input().split()\n",
    "m, n=int(str[0]),int(str[1])\n",
    "\n",
    "l=str[2:]\n",
    "arr = [ [ int(l[(j*n)+i]) for i in range(n)] for j in range(m)]\n",
    "spiralPrint(arr,m,n)\n"
   ]
  }
 ],
 "metadata": {
  "kernelspec": {
   "display_name": "Python 3",
   "language": "python",
   "name": "python3"
  },
  "language_info": {
   "codemirror_mode": {
    "name": "ipython",
    "version": 3
   },
   "file_extension": ".py",
   "mimetype": "text/x-python",
   "name": "python",
   "nbconvert_exporter": "python",
   "pygments_lexer": "ipython3",
   "version": "3.7.3"
  }
 },
 "nbformat": 4,
 "nbformat_minor": 2
}
