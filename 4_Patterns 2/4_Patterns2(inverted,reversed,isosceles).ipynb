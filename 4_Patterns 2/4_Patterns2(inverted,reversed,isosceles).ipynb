{
 "cells": [
  {
   "cell_type": "code",
   "execution_count": 24,
   "metadata": {},
   "outputs": [
    {
     "name": "stdout",
     "output_type": "stream",
     "text": [
      "4\n",
      "1      1\n",
      "12    21\n",
      "123  321\n",
      "12344321\n"
     ]
    }
   ],
   "source": [
    "n = int(input())\n",
    "i = 1\n",
    "\n",
    "while i <= n:\n",
    "    #part 1 - increasing seq.\n",
    "    j = 1\n",
    "    while j <= i:\n",
    "        print(j, end=\"\")\n",
    "        j = j + 1\n",
    "    \n",
    "    #part 2 - spaces\n",
    "    spaces = 1\n",
    "    s= 2*n-2*i\n",
    "    while spaces <= s:\n",
    "        print(' ', end='')\n",
    "        spaces = spaces + 1\n",
    "    \n",
    "    #part 3 - decreasing seq.\n",
    "    p = i\n",
    "    while p >= 1:\n",
    "        print(p, end='')\n",
    "        p = p -1\n",
    "        \n",
    "    print()\n",
    "    i = i + 1"
   ]
  },
  {
   "cell_type": "code",
   "execution_count": 1,
   "metadata": {},
   "outputs": [
    {
     "name": "stdout",
     "output_type": "stream",
     "text": [
      "4\n",
      "*000*000*\n",
      "0*00*00*0\n",
      "00*0*0*00\n",
      "000***000\n"
     ]
    }
   ],
   "source": [
    "n = int(input())\n",
    "\n",
    "i=1\n",
    "k=1\n",
    "t=1\n",
    "while i<=n: \n",
    "    #part 1\n",
    "    j=1\n",
    "    while j<=n:\n",
    "     \n",
    "        if(j==k):\n",
    "            print('*',end=\"\")\n",
    "        else:\n",
    "            print('0', end=\"\")\n",
    "        \n",
    "        j=j+1\n",
    "    \n",
    "    #*    \n",
    "    print('*',end='')\n",
    "    k=k+1    \n",
    "    \n",
    "    #part 2\n",
    "    m=n\n",
    "    while m>=1:\n",
    "        if(m==t):\n",
    "            print(\"*\",end='')\n",
    "        else:\n",
    "            print(\"0\",end=\"\")\n",
    "        m=m-1\n",
    "            \n",
    "    t=t+1\n",
    "    i=i+1\n",
    "    print()\n",
    "   \n",
    "    "
   ]
  },
  {
   "cell_type": "code",
   "execution_count": 25,
   "metadata": {},
   "outputs": [
    {
     "name": "stdout",
     "output_type": "stream",
     "text": [
      "5\n",
      "    1\n",
      "   212\n",
      "  32123\n",
      " 4321234\n",
      "543212345\n"
     ]
    }
   ],
   "source": [
    "n = int(input())\n",
    "i = 1\n",
    "\n",
    "while i <= n:\n",
    " \n",
    "    #part 1 - spaces\n",
    "    spaces = 1\n",
    "    while spaces <= n-i:\n",
    "        print(' ', end='')\n",
    "        spaces = spaces + 1\n",
    "    \n",
    "    #part 2 - decreasing seq.\n",
    "    p = i\n",
    "    while p >= 1:\n",
    "        print(p, end='')\n",
    "        p = p -1\n",
    "        \n",
    "    #part 3 - increasing seq.\n",
    "    j = 2\n",
    "    while j <= i:\n",
    "        print(j, end=\"\")\n",
    "        j = j + 1\n",
    "        \n",
    "    print()\n",
    "    i = i + 1"
   ]
  },
  {
   "cell_type": "code",
   "execution_count": 2,
   "metadata": {},
   "outputs": [
    {
     "name": "stdout",
     "output_type": "stream",
     "text": [
      "7\n",
      "* \n",
      " * * \n",
      "  * * * \n",
      "   * * * * \n",
      "  * * * \n",
      " * * \n",
      "* \n"
     ]
    }
   ],
   "source": [
    "n = int(input())\n",
    "n1=int((n+1)/2)\n",
    "n2=int(n/2)\n",
    "\n",
    "#upper half\n",
    "i=1\n",
    "while(i<=n1):\n",
    "    \n",
    "    spaces=1\n",
    "    while spaces<=i-1:\n",
    "        print(' ',end=\"\")\n",
    "        spaces=spaces+1\n",
    "    \n",
    "    stars=1\n",
    "    while stars<=i:\n",
    "        print('* ',end=\"\")\n",
    "        stars=stars+1\n",
    "    \n",
    "    print()\n",
    "    i=i+1  \n",
    "    \n",
    "#lower half\n",
    "n2=int(n/2)\n",
    "j=1\n",
    "while j<=n2:\n",
    "    spaces=1\n",
    "    l=n2-j\n",
    "    while spaces<=l:\n",
    "        print(' ',end='')\n",
    "        spaces=spaces+1\n",
    "        \n",
    "    stars=1\n",
    "    m=n2-j+1\n",
    "    while stars<=m:\n",
    "        print('* ',end='')\n",
    "        stars=stars+1\n",
    "        \n",
    "    print()\n",
    "    j=j+1"
   ]
  },
  {
   "cell_type": "markdown",
   "metadata": {},
   "source": [
    "# Others"
   ]
  },
  {
   "cell_type": "raw",
   "metadata": {},
   "source": [
    "****\n",
    "***\n",
    "**\n",
    "*"
   ]
  },
  {
   "cell_type": "code",
   "execution_count": 1,
   "metadata": {},
   "outputs": [
    {
     "name": "stdout",
     "output_type": "stream",
     "text": [
      "5\n",
      "*****\n",
      "****\n",
      "***\n",
      "**\n",
      "*\n"
     ]
    }
   ],
   "source": [
    "n = int(input())\n",
    "i = 1\n",
    "while i <= n:\n",
    "    j = 1\n",
    "    while j <= n - i + 1:\n",
    "        print('*', end=\"\")\n",
    "        j = j + 1\n",
    "    print()\n",
    "    i = i + 1"
   ]
  },
  {
   "cell_type": "code",
   "execution_count": 2,
   "metadata": {},
   "outputs": [
    {
     "name": "stdout",
     "output_type": "stream",
     "text": [
      "10987\n",
      "654\n",
      "32\n",
      "1\n"
     ]
    }
   ],
   "source": [
    "i = 1\n",
    "kartik=10\n",
    "while i<=4:\n",
    "    j=1 \n",
    "    while j<=4-i+1:\n",
    "        print(kartik,end='')\n",
    "        j=j+1\n",
    "        kartik=kartik-1\n",
    "    print()\n",
    "    i=i+1"
   ]
  },
  {
   "cell_type": "code",
   "execution_count": 2,
   "metadata": {},
   "outputs": [
    {
     "name": "stdout",
     "output_type": "stream",
     "text": [
      "5\n",
      "55555\n",
      "4444\n",
      "333\n",
      "22\n",
      "1\n"
     ]
    }
   ],
   "source": [
    "n = int(input())\n",
    "i = 1\n",
    "p=n\n",
    "while i <= n:\n",
    "    j = 1\n",
    "    while j <= n - i + 1:\n",
    "        print(p, end=\"\")\n",
    "        j = j + 1\n",
    "    print()\n",
    "    p = p-1\n",
    "    i = i + 1"
   ]
  },
  {
   "cell_type": "raw",
   "metadata": {},
   "source": [
    "   *\n",
    "  **\n",
    " ***\n",
    "****"
   ]
  },
  {
   "cell_type": "code",
   "execution_count": 1,
   "metadata": {},
   "outputs": [
    {
     "name": "stdout",
     "output_type": "stream",
     "text": [
      "5\n",
      "    *\n",
      "   **\n",
      "  ***\n",
      " ****\n",
      "*****\n"
     ]
    }
   ],
   "source": [
    "n = int(input())\n",
    "i = 1\n",
    "while i <= n:\n",
    "    spaces = 1\n",
    "    while spaces <= n - i:\n",
    "        print(' ', end= \"\")\n",
    "        spaces = spaces + 1\n",
    "    stars = 1\n",
    "    while stars <= i:\n",
    "        print('*', end= \"\")\n",
    "        stars = stars + 1\n",
    "    print()\n",
    "    i = i + 1"
   ]
  },
  {
   "cell_type": "raw",
   "metadata": {},
   "source": [
    "   1\n",
    "  12\n",
    " 123\n",
    "1234"
   ]
  },
  {
   "cell_type": "code",
   "execution_count": 2,
   "metadata": {},
   "outputs": [
    {
     "name": "stdout",
     "output_type": "stream",
     "text": [
      "4\n",
      "   1\n",
      "  12\n",
      " 123\n",
      "1234\n"
     ]
    }
   ],
   "source": [
    "n = int(input())\n",
    "i = 1\n",
    "while i <= n:\n",
    "    spaces = 1\n",
    "    while spaces <= n - i:\n",
    "        print(' ', end='')\n",
    "        spaces = spaces + 1\n",
    "    p = 1\n",
    "    j = 1\n",
    "    while j <= i:\n",
    "        print(p, end='')\n",
    "        j = j + 1\n",
    "        p = p + 1\n",
    "    print()\n",
    "    i = i + 1"
   ]
  },
  {
   "cell_type": "raw",
   "metadata": {},
   "source": [
    "   1\n",
    "  121\n",
    " 12321\n",
    "1234321"
   ]
  },
  {
   "cell_type": "code",
   "execution_count": 5,
   "metadata": {},
   "outputs": [
    {
     "name": "stdout",
     "output_type": "stream",
     "text": [
      "5\n",
      "    1\n",
      "   121\n",
      "  12321\n",
      " 1234321\n",
      "123454321\n"
     ]
    }
   ],
   "source": [
    "n = int(input())\n",
    "i = 1\n",
    "while i <= n:\n",
    "    spaces = 1\n",
    "    # spaces\n",
    "    while spaces <= n - i:\n",
    "        print(' ', end='')\n",
    "        spaces = spaces + 1\n",
    "    p = 1\n",
    "    j = 1\n",
    "    # increasing seq\n",
    "    while j <= i:\n",
    "        print(p, end='')\n",
    "        j = j + 1\n",
    "        p = p + 1\n",
    "    # decreasing seq\n",
    "    p = i - 1\n",
    "    while p >= 1:\n",
    "        print(p, end='')\n",
    "        p = p -1\n",
    "    print()\n",
    "    i = i + 1"
   ]
  },
  {
   "cell_type": "code",
   "execution_count": 6,
   "metadata": {},
   "outputs": [
    {
     "name": "stdout",
     "output_type": "stream",
     "text": [
      "4\n",
      "   *\n",
      "  ***\n",
      " *****\n",
      "*******\n"
     ]
    }
   ],
   "source": [
    "n = int(input())\n",
    "i = 1\n",
    "while i <= n:\n",
    "    spaces = 1\n",
    "    # spaces\n",
    "    while spaces <= n - i:\n",
    "        print(' ', end='')\n",
    "        spaces = spaces + 1\n",
    "    p = 1\n",
    "    j = 1\n",
    "    # increasing seq\n",
    "    while j <= i:\n",
    "        print(\"*\", end='')\n",
    "        j = j + 1\n",
    "        p = p + 1\n",
    "    # decreasing seq\n",
    "    p = i - 1\n",
    "    while p >= 1:\n",
    "        print(\"*\", end='')\n",
    "        p = p -1\n",
    "    print()\n",
    "    i = i + 1"
   ]
  }
 ],
 "metadata": {
  "kernelspec": {
   "display_name": "Python 3",
   "language": "python",
   "name": "python3"
  },
  "language_info": {
   "codemirror_mode": {
    "name": "ipython",
    "version": 3
   },
   "file_extension": ".py",
   "mimetype": "text/x-python",
   "name": "python",
   "nbconvert_exporter": "python",
   "pygments_lexer": "ipython3",
   "version": "3.7.3"
  }
 },
 "nbformat": 4,
 "nbformat_minor": 2
}
