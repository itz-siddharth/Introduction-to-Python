{
 "cells": [
  {
   "cell_type": "markdown",
   "metadata": {},
   "source": [
    "# Functions\n",
    "\n",
    "* Avoid repetition of codes\n",
    "* Improve Readability\n",
    "* Testing (Testing becomes a lot easier!)\n",
    "* Writing code becomes easier ( Divides the problem in smaller chunks(parts) amd therefore easier to solve )"
   ]
  },
  {
   "cell_type": "markdown",
   "metadata": {},
   "source": [
    "### Assignments"
   ]
  },
  {
   "cell_type": "code",
   "execution_count": 1,
   "metadata": {},
   "outputs": [
    {
     "name": "stdout",
     "output_type": "stream",
     "text": [
      "0\n",
      "100\n",
      "20\n",
      "0 \t -17\n",
      "20 \t -6\n",
      "40 \t 4\n",
      "60 \t 15\n",
      "80 \t 26\n",
      "100 \t 37\n"
     ]
    }
   ],
   "source": [
    "def printTable(start,end,step):\n",
    "    while start<=end:\n",
    "        C = int((start - 32)* 5/9)\n",
    "        print(start,\"\\t\", C)\n",
    "        start=start+step\n",
    "        \n",
    "s = int(input())\n",
    "e = int(input())\n",
    "step = int(input())\n",
    "printTable(s,e,step)"
   ]
  },
  {
   "cell_type": "code",
   "execution_count": 4,
   "metadata": {},
   "outputs": [
    {
     "name": "stdout",
     "output_type": "stream",
     "text": [
      "5\n",
      "true\n"
     ]
    }
   ],
   "source": [
    "def checkMember(n):\n",
    "    a = 0\n",
    "    b = 1\n",
    "    \n",
    "    while a < n:\n",
    "        c = a + b\n",
    "        a = b\n",
    "        b = c\n",
    "        \n",
    "    if a == n:\n",
    "        return True\n",
    "    else:\n",
    "        return False\n",
    "\n",
    "\n",
    "n=int(input())\n",
    "if(checkMember(n)):\n",
    "    print(\"true\")\n",
    "else:\n",
    "    print(\"false\")\n",
    "    "
   ]
  },
  {
   "cell_type": "code",
   "execution_count": 5,
   "metadata": {},
   "outputs": [
    {
     "name": "stdout",
     "output_type": "stream",
     "text": [
      "121\n",
      "true\n"
     ]
    }
   ],
   "source": [
    "def checkPalindrome(num):\n",
    "    temp = num\n",
    "    rev = 0\n",
    "    while num > 0:\n",
    "        dig = num % 10\n",
    "        rev = rev * 10 + dig\n",
    "        num = num // 10\n",
    "    \n",
    "    if temp == rev:\n",
    "        return True\n",
    "    else:\n",
    "        return False\n",
    "\t\t\n",
    "num = int(input())\n",
    "isPalindrome = checkPalindrome(num)\n",
    "if(isPalindrome):\n",
    "\tprint('true')\n",
    "else:\n",
    "\tprint('false')\n"
   ]
  },
  {
   "cell_type": "code",
   "execution_count": 6,
   "metadata": {},
   "outputs": [
    {
     "name": "stdout",
     "output_type": "stream",
     "text": [
      "1634\n",
      "true\n"
     ]
    }
   ],
   "source": [
    "# Function to calculate order of the number \n",
    "def order(n):\n",
    "    temp = n\n",
    "    times = 0\n",
    "    while temp > 0:\n",
    "        times += 1\n",
    "        temp //= 10\n",
    "    \n",
    "    return times    \n",
    "        \n",
    "def checkArmstrong(num):\n",
    "    sum = 0\n",
    "    temp = num\n",
    "    o = order(num)\n",
    "    \n",
    "    while temp > 0:\n",
    "        digit = temp % 10\n",
    "        sum = sum + (digit ** o)\n",
    "        temp = temp // 10\n",
    "        \n",
    "    if num == sum:\n",
    "        return True\n",
    "    else:\n",
    "        return False\n",
    "        \n",
    "num = int(input())\n",
    "isArmstrong = checkArmstrong(num)\n",
    "if(isArmstrong):\n",
    "\tprint('true')\n",
    "else:\n",
    "\tprint('false')"
   ]
  },
  {
   "cell_type": "markdown",
   "metadata": {},
   "source": [
    "### Default Arguments"
   ]
  },
  {
   "cell_type": "code",
   "execution_count": 70,
   "metadata": {},
   "outputs": [
    {
     "name": "stdout",
     "output_type": "stream",
     "text": [
      "4\n",
      "9\n",
      "0\n",
      "7\n"
     ]
    }
   ],
   "source": [
    "def sum(a, b ,c = 0):\n",
    "    print(c)\n",
    "    return a + b + c\n",
    "\n",
    "print(sum(2,3,4))\n",
    "print(sum(3,4))\n"
   ]
  },
  {
   "cell_type": "code",
   "execution_count": 69,
   "metadata": {},
   "outputs": [
    {
     "ename": "SyntaxError",
     "evalue": "non-default argument follows default argument (<ipython-input-69-645ac50d563e>, line 2)",
     "output_type": "error",
     "traceback": [
      "\u001b[1;36m  File \u001b[1;32m\"<ipython-input-69-645ac50d563e>\"\u001b[1;36m, line \u001b[1;32m2\u001b[0m\n\u001b[1;33m    def f(a = 0, b, c):\u001b[0m\n\u001b[1;37m         ^\u001b[0m\n\u001b[1;31mSyntaxError\u001b[0m\u001b[1;31m:\u001b[0m non-default argument follows default argument\n"
     ]
    }
   ],
   "source": [
    "# all non default arguments should be before arguments with default values\n",
    "def f(a = 0, b, c):\n",
    "    return a + b + c\n",
    "\n",
    "f(1,2)"
   ]
  },
  {
   "cell_type": "code",
   "execution_count": 72,
   "metadata": {},
   "outputs": [
    {
     "name": "stdout",
     "output_type": "stream",
     "text": [
      "14\n",
      "7\n",
      "10\n"
     ]
    },
    {
     "data": {
      "text/plain": [
       "10"
      ]
     },
     "execution_count": 72,
     "metadata": {},
     "output_type": "execute_result"
    }
   ],
   "source": [
    "def f1(a, b, c = 2, d = 0):\n",
    "    return a + b + c + d\n",
    "\n",
    "print(f1(2, 3, 4, 5))\n",
    "print(f1(2, 3))\n",
    "print(f1(2, 3, 5))\n",
    "\n",
    "#we can give the argument value by specifically mentioning which argument should take it\n",
    "print(f1(2, 3, d=3 )) #if we want to specifically pass value to d instead of c \n",
    "\n",
    "#print(f1(2, c =3, d=3 )) gives error as b(non default argument) is not given any value ! \n",
    "\n",
    "print(f1(b=2, c=3, d=3, a=10 )) # specifically giving value therefore order doesnt matter here!"
   ]
  },
  {
   "cell_type": "markdown",
   "metadata": {},
   "source": [
    "### Scope of the Variables"
   ]
  },
  {
   "cell_type": "code",
   "execution_count": 48,
   "metadata": {},
   "outputs": [
    {
     "name": "stdout",
     "output_type": "stream",
     "text": [
      "10\n",
      "12\n"
     ]
    }
   ],
   "source": [
    "a1 = 10 #global variable\n",
    "\n",
    "def f1():\n",
    "    b1 = 12 #Local varable\n",
    "    print(b1)\n",
    "\n",
    "print(a1)\n",
    "#print(b1) -accessible only within the function\n",
    "f1()\n",
    "#cannot print a local variable outside the function prnt(b1)"
   ]
  },
  {
   "cell_type": "code",
   "execution_count": 52,
   "metadata": {},
   "outputs": [
    {
     "name": "stdout",
     "output_type": "stream",
     "text": [
      "10\n",
      "12\n",
      "10\n"
     ]
    }
   ],
   "source": [
    "# you can acces any global variable defined before the function call\n",
    "def f2():\n",
    "    b2 = 12 #Local varable\n",
    "    print(b2)\n",
    "    print(a2) #global variable can be used insde the function\n",
    "    #print(c3) #c3 is not printed becoz c3 is not defined before the funtion call \n",
    "a2 = 10 #global variable\n",
    "print(a2)\n",
    "f2()\n",
    "c3 = 20 "
   ]
  },
  {
   "cell_type": "code",
   "execution_count": 56,
   "metadata": {},
   "outputs": [
    {
     "name": "stdout",
     "output_type": "stream",
     "text": [
      "13\n",
      "140727120729280\n",
      "12\n",
      "140727120729248\n",
      "12\n",
      "140727120729248\n"
     ]
    }
   ],
   "source": [
    "a4 = 13\n",
    "def f4():\n",
    "    global a4\n",
    "    a4 = 12\n",
    "    print(a4)\n",
    "    print(id(a4))\n",
    "    \n",
    "print(a4)\n",
    "print(id(a4))\n",
    "f4()\n",
    "print(a4)\n",
    "print(id(a4))"
   ]
  },
  {
   "cell_type": "markdown",
   "metadata": {},
   "source": [
    "###  Example Function isPrime() , primeFrom2ToN()"
   ]
  },
  {
   "cell_type": "code",
   "execution_count": 20,
   "metadata": {},
   "outputs": [],
   "source": [
    "def isPrime(n):\n",
    "    for d in range(2,n):\n",
    "        if (n % d == 0):\n",
    "            break\n",
    "    else:\n",
    "        return True\n",
    "    \n",
    "    return False    "
   ]
  },
  {
   "cell_type": "code",
   "execution_count": 21,
   "metadata": {},
   "outputs": [
    {
     "data": {
      "text/plain": [
       "True"
      ]
     },
     "execution_count": 21,
     "metadata": {},
     "output_type": "execute_result"
    }
   ],
   "source": [
    "isPrime(17)"
   ]
  },
  {
   "cell_type": "code",
   "execution_count": 23,
   "metadata": {},
   "outputs": [],
   "source": [
    "def primeFrom2ToN(n):\n",
    "    for k in range(2,n+1):\n",
    "        #check if k is prime and i case it is prime k \n",
    "        is_k_prime = isPrime(k)\n",
    "        if (is_k_prime):\n",
    "            print(k)        "
   ]
  },
  {
   "cell_type": "code",
   "execution_count": 24,
   "metadata": {},
   "outputs": [
    {
     "name": "stdout",
     "output_type": "stream",
     "text": [
      "2\n",
      "3\n",
      "5\n",
      "7\n",
      "11\n",
      "13\n",
      "17\n",
      "19\n"
     ]
    }
   ],
   "source": [
    "primeFrom2ToN(20)"
   ]
  },
  {
   "cell_type": "markdown",
   "metadata": {},
   "source": [
    "### Functions using Factorial Example"
   ]
  },
  {
   "cell_type": "code",
   "execution_count": 40,
   "metadata": {},
   "outputs": [],
   "source": [
    "def ncr(n , r):\n",
    "    n_fact = fac(n)\n",
    "    r_fact = fac(r)\n",
    "    n_r_fact = fac(n-r)\n",
    "    ans=n_fact//(r_fact * n_r_fact)\n",
    "    return ans"
   ]
  },
  {
   "cell_type": "code",
   "execution_count": 41,
   "metadata": {},
   "outputs": [
    {
     "data": {
      "text/plain": [
       "10"
      ]
     },
     "execution_count": 41,
     "metadata": {},
     "output_type": "execute_result"
    }
   ],
   "source": [
    "ncr(5 , 2)"
   ]
  },
  {
   "cell_type": "code",
   "execution_count": 34,
   "metadata": {},
   "outputs": [],
   "source": [
    "def fac(a):\n",
    "    a_fact = 1\n",
    "    for i in range(1, a+ 1):\n",
    "        a_fact = a_fact * i\n",
    "    return a_fact"
   ]
  },
  {
   "cell_type": "code",
   "execution_count": 35,
   "metadata": {},
   "outputs": [
    {
     "data": {
      "text/plain": [
       "24"
      ]
     },
     "execution_count": 35,
     "metadata": {},
     "output_type": "execute_result"
    }
   ],
   "source": [
    "a = fac(4)\n",
    "a"
   ]
  },
  {
   "cell_type": "code",
   "execution_count": 17,
   "metadata": {},
   "outputs": [
    {
     "name": "stdout",
     "output_type": "stream",
     "text": [
      "5\n",
      "2\n",
      "10\n"
     ]
    }
   ],
   "source": [
    "n = int(input())\n",
    "r = int(input())\n",
    "\n",
    "#calling same functons 3 times\n",
    "#created a function to avoid repetition of same code \n",
    "n_fact = fac(n)\n",
    "r_fact = fac(r)\n",
    "n_r_fact = fac(n-r)\n",
    "\n",
    "ans=n_fact//(r_fact * n_r_fact)\n",
    "print(ans)"
   ]
  },
  {
   "cell_type": "code",
   "execution_count": 42,
   "metadata": {},
   "outputs": [
    {
     "name": "stdout",
     "output_type": "stream",
     "text": [
      "4\n",
      "2\n"
     ]
    },
    {
     "data": {
      "text/plain": [
       "6"
      ]
     },
     "execution_count": 42,
     "metadata": {},
     "output_type": "execute_result"
    }
   ],
   "source": [
    "#Long method and not recommended\n",
    "#same code 3 times!\n",
    "n = int(input())\n",
    "r = int(input())\n",
    "\n",
    "n_fact = 1\n",
    "for i in range(1, n + 1):\n",
    "    n_fact = n_fact * i\n",
    "\n",
    "r_fact = 1\n",
    "for i in range(1, r + 1):\n",
    "    r_fact = r_fact * i\n",
    "    \n",
    "n_r_fact = 1\n",
    "for i in range(1, n - r + 1):\n",
    "    n_r_fact = n_r_fact * i\n",
    "    \n",
    "\n",
    "ans=n_fact//(r_fact * n_r_fact)\n",
    "ans"
   ]
  },
  {
   "cell_type": "markdown",
   "metadata": {},
   "source": [
    "# Predict the Output Questions"
   ]
  },
  {
   "cell_type": "code",
   "execution_count": 44,
   "metadata": {},
   "outputs": [
    {
     "name": "stdout",
     "output_type": "stream",
     "text": [
      "5\n"
     ]
    }
   ],
   "source": [
    "def func(a):\n",
    "    a = a + 10\n",
    "    return a\n",
    "a = 5\n",
    "func(a)\n",
    "print(a)"
   ]
  },
  {
   "cell_type": "code",
   "execution_count": 57,
   "metadata": {},
   "outputs": [
    {
     "name": "stdout",
     "output_type": "stream",
     "text": [
      "16\n"
     ]
    }
   ],
   "source": [
    "def square(a):\n",
    "    ans  = a*a\n",
    "    return  ans\n",
    "\n",
    "a = 4\n",
    "a = square(a)\n",
    "print(a)"
   ]
  },
  {
   "cell_type": "code",
   "execution_count": 59,
   "metadata": {},
   "outputs": [
    {
     "name": "stdout",
     "output_type": "stream",
     "text": [
      "14\n"
     ]
    }
   ],
   "source": [
    "a = 14\n",
    "def f():\n",
    "    a=12\n",
    "f()\n",
    "print(a)"
   ]
  },
  {
   "cell_type": "code",
   "execution_count": 61,
   "metadata": {},
   "outputs": [
    {
     "name": "stdout",
     "output_type": "stream",
     "text": [
      "12\n"
     ]
    }
   ],
   "source": [
    "a=14\n",
    "def f():\n",
    "    global a\n",
    "    a=12\n",
    "f()\n",
    "print(a)"
   ]
  },
  {
   "cell_type": "code",
   "execution_count": 73,
   "metadata": {},
   "outputs": [
    {
     "name": "stdout",
     "output_type": "stream",
     "text": [
      "12\n"
     ]
    }
   ],
   "source": [
    "a = 14\n",
    "def f():\n",
    "    a = 12\n",
    "    return a\n",
    "a = f()\n",
    "print(a)"
   ]
  },
  {
   "cell_type": "code",
   "execution_count": 75,
   "metadata": {},
   "outputs": [
    {
     "name": "stdout",
     "output_type": "stream",
     "text": [
      "21\n"
     ]
    }
   ],
   "source": [
    "def function(a,b,c=1):\n",
    "    return a+b-c\n",
    "value = function(10,12)\n",
    "print(value)"
   ]
  },
  {
   "cell_type": "code",
   "execution_count": 77,
   "metadata": {},
   "outputs": [
    {
     "name": "stdout",
     "output_type": "stream",
     "text": [
      "17\n"
     ]
    }
   ],
   "source": [
    "def function(a,b,c=1):\n",
    "    return a+b-c\n",
    "value = function(10,12,5)\n",
    "print(value)"
   ]
  },
  {
   "cell_type": "code",
   "execution_count": 78,
   "metadata": {},
   "outputs": [
    {
     "name": "stdout",
     "output_type": "stream",
     "text": [
      "11\n"
     ]
    }
   ],
   "source": [
    "def function(a,b,c=1,d=5):\n",
    "    return a+b+c+d\n",
    "value = function(1,2,d=7)\n",
    "print(value)"
   ]
  }
 ],
 "metadata": {
  "kernelspec": {
   "display_name": "Python 3",
   "language": "python",
   "name": "python3"
  },
  "language_info": {
   "codemirror_mode": {
    "name": "ipython",
    "version": 3
   },
   "file_extension": ".py",
   "mimetype": "text/x-python",
   "name": "python",
   "nbconvert_exporter": "python",
   "pygments_lexer": "ipython3",
   "version": "3.7.3"
  }
 },
 "nbformat": 4,
 "nbformat_minor": 2
}
