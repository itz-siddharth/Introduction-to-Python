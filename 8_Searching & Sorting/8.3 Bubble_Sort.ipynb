{
 "cells": [
  {
   "cell_type": "markdown",
   "metadata": {},
   "source": [
    "Bubble Sort"
   ]
  },
  {
   "cell_type": "code",
   "execution_count": 2,
   "metadata": {},
   "outputs": [
    {
     "name": "stdout",
     "output_type": "stream",
     "text": [
      "[1, 2, 3, 4, 5, 6, 7, 8]\n"
     ]
    }
   ],
   "source": [
    "def bubbleSort(arr):\n",
    "    \n",
    "    length = len(arr)\n",
    "    # i is for n-1 rounds\n",
    "    # j is for in each round I need to go till length-1-i\n",
    "    for i in range(length-1):\n",
    "        for j in range(length-1-i):\n",
    "            if(arr[j] > arr[j+1]):\n",
    "                temp = arr[j]\n",
    "                arr[j] = arr[j+1]\n",
    "                arr[j+1] = temp\n",
    "\n",
    "arr = [6,7,3,5,4,2,1,8]\n",
    "bubbleSort(arr)\n",
    "print(arr)"
   ]
  },
  {
   "cell_type": "code",
   "execution_count": 1,
   "metadata": {},
   "outputs": [
    {
     "name": "stdout",
     "output_type": "stream",
     "text": [
      "7\n",
      "2 13 4 1 3 6 28\n",
      "1 2 3 4 6 13 28 "
     ]
    }
   ],
   "source": [
    "def bubbleSort(arr):\n",
    "    \n",
    "    length = len(arr)\n",
    "    # i is for n-1 rounds\n",
    "    # j is for in each round I need to go till length-1-i\n",
    "    for i in range(length-1):\n",
    "        for j in range(length-1-i):\n",
    "            if(arr[j] > arr[j+1]):\n",
    "                temp = arr[j]\n",
    "                arr[j] = arr[j+1]\n",
    "                arr[j+1] = temp\n",
    "\n",
    "N = int(input())\n",
    "arr = [ int(x) for x in input().split() ]\n",
    "bubbleSort(arr)\n",
    "for ele in arr:\n",
    "    print(ele,end=\" \")"
   ]
  }
 ],
 "metadata": {
  "kernelspec": {
   "display_name": "Python 3",
   "language": "python",
   "name": "python3"
  },
  "language_info": {
   "codemirror_mode": {
    "name": "ipython",
    "version": 3
   },
   "file_extension": ".py",
   "mimetype": "text/x-python",
   "name": "python",
   "nbconvert_exporter": "python",
   "pygments_lexer": "ipython3",
   "version": "3.7.3"
  }
 },
 "nbformat": 4,
 "nbformat_minor": 2
}
