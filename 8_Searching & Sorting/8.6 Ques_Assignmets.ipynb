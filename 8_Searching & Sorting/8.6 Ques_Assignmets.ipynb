{
 "cells": [
  {
   "cell_type": "markdown",
   "metadata": {},
   "source": [
    "## 1. Sum of two arrays [*Hint]\n",
    "Two random integer arrays are given A1 and A2, in which numbers from 0 to 9 are present at every index (i.e. single digit integer is present at every index of both given arrays).\n",
    "You need to find sum of both the input arrays (like we add two integers) and put the result in another array i.e. output array (output arrays should also contain only single digits at every index).\n",
    "The size A1 & A2 can be different.\n",
    "Note : Output array size should be 1 more than the size of bigger array and place 0 at the 0th index if there is no carry. No need to print the elements of output array.\n",
    "#### Input format :\n",
    "Line 1 : Integer n1 (A1 Size)\n",
    "Line 2 : A1 elements (separated by space)\n",
    "Line 3 : Integer n2 (A2 Size)\n",
    "Line 4 : A2 elements (separated by space)\n",
    "#### Output Format :\n",
    "Output array elements (separated by space)\n",
    "#### Constraints :\n",
    "1 <= n1, n2 <= 10^6\n",
    "#### Sample Input 1:\n",
    "3\n",
    "6 2 4\n",
    "3\n",
    "7 5 6\n",
    "#### Sample Output 1:\n",
    "1 3 8 0\n",
    "#### Sample Input 2:\n",
    "3\n",
    "8 5 2\n",
    "2\n",
    "1 3\n",
    "#### Sample Output 2:\n",
    "0 8 6 5"
   ]
  },
  {
   "cell_type": "code",
   "execution_count": 3,
   "metadata": {},
   "outputs": [
    {
     "name": "stdout",
     "output_type": "stream",
     "text": [
      "3\n",
      "6 2 4\n",
      "3\n",
      "7 5 6\n",
      "1 3 8 0 "
     ]
    }
   ],
   "source": [
    "N = int(input())\n",
    "a1 = [ int(x) for x in input().split() ]\n",
    "M = int(input())\n",
    "a2 = [ int(y) for y in input().split() ]\n",
    "a3=[]\n",
    "i = len(a1)-1\n",
    "j = len(a2)-1\n",
    "carry=0\n",
    "sum=0\n",
    "result=0\n",
    "while(i>=0 and j>=0):\n",
    "    result = a1[i]+a2[j]+carry\n",
    "    sum=result%10\n",
    "    carry = result//10\n",
    "    a3.append(sum)\n",
    "    i=i-1\n",
    "    j=j-1\n",
    "while(i>=0):\n",
    "    result = a1[i]+carry\n",
    "    sum = result%10\n",
    "    carry = result//10\n",
    "    a3.append(sum)\n",
    "    i=i-1\n",
    "while(j>=0):\n",
    "    result = a2[j]+carry\n",
    "    sum = result%10\n",
    "    carry = result//10\n",
    "    a3.append(sum)\n",
    "    j=j-1\n",
    "a3.append(carry)\n",
    "a3=a3[::-1]\n",
    "for i in a3:\n",
    "    print(i,end=\" \")"
   ]
  },
  {
   "cell_type": "markdown",
   "metadata": {},
   "source": [
    "## 2. Second Largest in array [*Hint]\n",
    "Given a random integer array of size n, find and return the second largest element present in the array.<br>\n",
    "If n <= 1 or all elements are same in the array, return -2147483648 i.e. -2^31.\n",
    "#### Input format :\n",
    "Line 1 : Integer n (Array Size)\n",
    "Line 2 : Array elements (separated by space)\n",
    "#### Output Format :\n",
    "Second largest element\n",
    "#### Constraints :\n",
    "1 <= N <= 10^6\n",
    "#### Sample Input 1:\n",
    "7\n",
    "2 13 4 1 3 6 28\n",
    "#### Sample Output 1:\n",
    "13\n",
    "#### Sample Input 2:\n",
    "5\n",
    "9 3 6 2 9\n",
    "#### Sample Output 2:\n",
    "6\n",
    "#### Sample Input 3:\n",
    "2\n",
    "6 6\n",
    "#### Sample Output 3:\n",
    "-2147483648"
   ]
  },
  {
   "cell_type": "code",
   "execution_count": 4,
   "metadata": {},
   "outputs": [
    {
     "name": "stdout",
     "output_type": "stream",
     "text": [
      "5\n",
      "9 3 6 2 9\n",
      "6\n"
     ]
    }
   ],
   "source": [
    "def second_largest(arr):\n",
    "    L =-20000000000000\n",
    "    S =-200000000000000\n",
    "    for i in range(len(arr)):\n",
    "        if arr[i]>L:\n",
    "            S = L\n",
    "            L = arr[i]\n",
    "            \n",
    "        elif arr[i]>S:\n",
    "            if arr[i] == L:\n",
    "                continue\n",
    "            else:\n",
    "                S = arr[i]\n",
    "        \n",
    "    print(S)\n",
    "        \n",
    "        \n",
    "N = int(input())\n",
    "arr = [ int(x) for x in input().split() ]\n",
    "second_largest(arr)\n"
   ]
  },
  {
   "cell_type": "markdown",
   "metadata": {},
   "source": [
    "## 3. Check Array Rotation\n",
    "Given an integer array, which is sorted (in increasing order) and has been rotated by some number k in clockwise direction. Find and return the k.\n",
    "#### Input format :\n",
    "Line 1 : Integer n (Array Size)\n",
    "Line 2 : Array elements (separated by space)\n",
    "#### Output Format :\n",
    "Integer k\n",
    "#### Constraints :\n",
    "1 <= n <= 1000\n",
    "#### Sample Input 1:\n",
    "6\n",
    "5 6 1 2 3 4\n",
    "#### Sample Output 1:\n",
    "2\n",
    "#### Sample Input 2:\n",
    "5\n",
    "3 6 8 9 10\n",
    "#### Sample Output 2:\n",
    "0"
   ]
  },
  {
   "cell_type": "code",
   "execution_count": 7,
   "metadata": {},
   "outputs": [
    {
     "name": "stdout",
     "output_type": "stream",
     "text": [
      "6\n",
      "5 6 1 2 3 4\n",
      "2\n"
     ]
    }
   ],
   "source": [
    "def check_rotation(arr):\n",
    "    length = len(arr)\n",
    "    for i in range(length-1):\n",
    "        for j in range(length-i-1):\n",
    "            if arr[j]>arr[j+1]:\n",
    "                arr[j],arr[j+1]=arr[j+1],arr[j]\n",
    "                return j+1\n",
    "    \n",
    "n = int(input())\n",
    "arr=list(int(i) for i in input().strip().split(' '))\n",
    "number=check_rotation(arr)\n",
    "print(number)"
   ]
  },
  {
   "cell_type": "code",
   "execution_count": 1,
   "metadata": {},
   "outputs": [
    {
     "name": "stdout",
     "output_type": "stream",
     "text": [
      "6\n",
      "5 6 1 2 3 4\n",
      "2\n"
     ]
    }
   ],
   "source": [
    "def check_rotation(li):\n",
    "    for i in range(len(li)):\n",
    "        if li[i]>li[i+1]:\n",
    "            return i+1\n",
    "        \n",
    "    return 0\n",
    "    \n",
    "n = int(input())\n",
    "li=[ int(i) for i in input().split()]\n",
    "number=check_rotation(li)\n",
    "print(number)"
   ]
  },
  {
   "cell_type": "markdown",
   "metadata": {},
   "source": [
    "## 4. Rotate array [*Hint]\n",
    "Given a random integer array of size n, write a function that rotates the given array by d elements (towards left)\n",
    "Change in the input array itself. You don't need to return or print elements.<br>\n",
    "#### Input format :\n",
    "Line 1 : Integer n (Array Size)\n",
    "Line 2 : Array elements (separated by space)\n",
    "Line 3 : Integer d\n",
    "#### Output Format :\n",
    "Updated array elements (separated by space)\n",
    "#### Constraints :\n",
    "1 <= N <= 1000\n",
    "1 <= d <= N\n",
    "#### Sample Input :\n",
    "7\n",
    "1 2 3 4 5 6 7\n",
    "2\n",
    "#### Sample Output :\n",
    "3 4 5 6 7 1 2"
   ]
  },
  {
   "cell_type": "code",
   "execution_count": 3,
   "metadata": {},
   "outputs": [
    {
     "name": "stdout",
     "output_type": "stream",
     "text": [
      "7\n",
      "1 2 3 4 5 6 7\n",
      "2\n",
      "3 4 5 6 7 1 2\n"
     ]
    }
   ],
   "source": [
    "def Rotate(arr, d):\n",
    "    # Please add your code here\n",
    "    for i in range(d):\n",
    "        arr.append(arr[i])\n",
    "    for i in range(d):\n",
    "        arr.pop(0)   \n",
    "        \n",
    "n = int(input())\n",
    "arr=list(int(i) for i in input().strip().split(' '))\n",
    "d=int(input())\n",
    "Rotate(arr, d)\n",
    "print(*arr)"
   ]
  },
  {
   "cell_type": "markdown",
   "metadata": {},
   "source": [
    "## 5. Push Zeros to end [*Hint]\n",
    "Given a random integer array, push all the zeros that are present to end of the array. The respective order of other elements should remain same.<br>\n",
    "Change in the input array itself. You don't need to return or print elements. Don't use extra array.<br>\n",
    "Note : You need to do this in one scan of array only.\n",
    "#### Input format :\n",
    "Line 1 : Integer N, Array Size\n",
    "Line 2 : Array elements (separated by space)\n",
    "#### Output Format :\n",
    "Array elements (separated by space)\n",
    "#### Constraints :\n",
    "1 <= N <= 10^6\n",
    "#### Sample Input 1:\n",
    "7\n",
    "2 0 4 1 3 0 28\n",
    "#### Sample Output 1:\n",
    "2 4 1 3 28 0 0\n",
    "#### Sample Input 2:\n",
    "5\n",
    "0 3 0 2 0\n",
    "#### Sample Output 2:\n",
    "3 2 0 0 0"
   ]
  },
  {
   "cell_type": "code",
   "execution_count": 1,
   "metadata": {},
   "outputs": [
    {
     "name": "stdout",
     "output_type": "stream",
     "text": [
      "7\n",
      "2 0 4 1 3 0 28\n",
      "2 4 1 3 28 0 0 "
     ]
    }
   ],
   "source": [
    "def push_zeros_to_end(arr):\n",
    "    length = len(arr)\n",
    "    k=0\n",
    "    for i in range(length):\n",
    "        \n",
    "        if arr[i] == 0:\n",
    "            continue\n",
    "        else:          \n",
    "            arr[i],arr[k]=arr[k],arr[i]\n",
    "            k = k + 1\n",
    "            \n",
    "N = int(input())\n",
    "arr = [ int(x) for x in input().split() ]\n",
    "push_zeros_to_end(arr)\n",
    "for ele in arr:\n",
    "    print(ele,end=' ')"
   ]
  },
  {
   "cell_type": "markdown",
   "metadata": {},
   "source": [
    "## 6. Sort 0 1 2 [*Hint]\n",
    "You are given an integer array containing only 0s, 1s and 2s. Write a solution to sort this array using one scan only.\n",
    "You need to change in the given array itself. So no need to return or print anything.\n",
    "#### Input format :\n",
    "Line 1 : Integer n (Array Size)\n",
    "Line 2 : Array elements (separated by space)\n",
    "#### Output Format :\n",
    "Updated array elements (separated by space)\n",
    "#### Constraints :\n",
    "1 <= n <= 10^6\n",
    "#### Sample Input:\n",
    "7\n",
    "0 1 2 0 2 0 1\n",
    "#### Sample Output:\n",
    "0 0 0 1 1 2 2 "
   ]
  },
  {
   "cell_type": "code",
   "execution_count": 5,
   "metadata": {},
   "outputs": [
    {
     "name": "stdout",
     "output_type": "stream",
     "text": [
      "7\n",
      "0 1 2 0 2 0 1\n",
      "0 0 0 1 1 2 2 "
     ]
    }
   ],
   "source": [
    "n = int(input())\n",
    "arr = [ int(x) for x in input().split() ]\n",
    "\n",
    "arr.sort()\n",
    "\n",
    "for ele in arr:\n",
    "    print(ele,end=' ')"
   ]
  }
 ],
 "metadata": {
  "kernelspec": {
   "display_name": "Python 3",
   "language": "python",
   "name": "python3"
  },
  "language_info": {
   "codemirror_mode": {
    "name": "ipython",
    "version": 3
   },
   "file_extension": ".py",
   "mimetype": "text/x-python",
   "name": "python",
   "nbconvert_exporter": "python",
   "pygments_lexer": "ipython3",
   "version": "3.7.3"
  }
 },
 "nbformat": 4,
 "nbformat_minor": 2
}
