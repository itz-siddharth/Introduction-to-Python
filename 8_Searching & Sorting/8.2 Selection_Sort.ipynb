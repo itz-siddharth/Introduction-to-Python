{
 "cells": [
  {
   "cell_type": "code",
   "execution_count": 3,
   "metadata": {},
   "outputs": [
    {
     "name": "stdout",
     "output_type": "stream",
     "text": [
      "[1, 2, 3, 4, 5, 6, 7, 8]\n"
     ]
    }
   ],
   "source": [
    "def selectionSort(arr):\n",
    "    length = len(arr)\n",
    "    for i in range(length-1):\n",
    "        minIndex = i\n",
    "        for j in range(i+1,length):\n",
    "            if(arr[j] < arr[minIndex]):\n",
    "                minIndex = j\n",
    "        temp = arr[i]\n",
    "        arr[i] = arr[minIndex]\n",
    "        arr[minIndex] = temp\n",
    "        \n",
    "arr = [1,5,2,4,6,7,3,8]\n",
    "selectionSort(arr)\n",
    "print(arr)"
   ]
  },
  {
   "cell_type": "code",
   "execution_count": null,
   "metadata": {
    "collapsed": true
   },
   "outputs": [],
   "source": []
  }
 ],
 "metadata": {
  "kernelspec": {
   "display_name": "Python 3",
   "language": "python",
   "name": "python3"
  },
  "language_info": {
   "codemirror_mode": {
    "name": "ipython",
    "version": 3
   },
   "file_extension": ".py",
   "mimetype": "text/x-python",
   "name": "python",
   "nbconvert_exporter": "python",
   "pygments_lexer": "ipython3",
   "version": "3.7.3"
  }
 },
 "nbformat": 4,
 "nbformat_minor": 2
}
