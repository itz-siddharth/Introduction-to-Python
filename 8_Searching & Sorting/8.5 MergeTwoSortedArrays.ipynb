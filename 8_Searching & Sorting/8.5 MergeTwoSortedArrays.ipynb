{
 "cells": [
  {
   "cell_type": "code",
   "execution_count": 1,
   "metadata": {},
   "outputs": [
    {
     "name": "stdout",
     "output_type": "stream",
     "text": [
      "[1, 2, 3, 4, 6, 7, 8, 9, 10]\n"
     ]
    }
   ],
   "source": [
    "def mergeSortedArrays(arr1,arr2):\n",
    "    i=0\n",
    "    j=0\n",
    "    len1 = len(arr1)\n",
    "    len2 = len(arr2)\n",
    "    \n",
    "    arr = []\n",
    "    \n",
    "    while((i<len1) and (j < len2)):\n",
    "        if(arr1[i] < arr2[j]):\n",
    "            arr.append(arr1[i])\n",
    "            i = i + 1\n",
    "        else:\n",
    "            arr.append(arr2[j])\n",
    "            j = j + 1\n",
    "    while(i < len1):\n",
    "        arr.append(arr1[i])\n",
    "        i = i + 1\n",
    "        \n",
    "    while(j < len2):\n",
    "        arr.append(arr2[j])\n",
    "        j = j + 1\n",
    "    return arr\n",
    "\n",
    "arr1 = [1,4,9,10]\n",
    "arr2 = [2,3,6,7,8]\n",
    "arr = mergeSortedArrays(arr1,arr2)\n",
    "print(arr)"
   ]
  },
  {
   "cell_type": "code",
   "execution_count": 1,
   "metadata": {},
   "outputs": [
    {
     "name": "stdout",
     "output_type": "stream",
     "text": [
      "5\n",
      "1 3 4 7 11\n",
      "4\n",
      "2 4 6 13\n",
      "1 2 3 4 4 6 7 11 13 "
     ]
    }
   ],
   "source": [
    "def mergeSortedArrays(arr1,arr2):\n",
    "    i=0\n",
    "    j=0\n",
    "    len1 = len(arr1)\n",
    "    len2 = len(arr2)\n",
    "    \n",
    "    arr = []\n",
    "    \n",
    "    while((i<len1) and (j < len2)):\n",
    "        if(arr1[i] < arr2[j]):\n",
    "            arr.append(arr1[i])\n",
    "            i = i + 1\n",
    "        else:\n",
    "            arr.append(arr2[j])\n",
    "            j = j + 1\n",
    "    while(i < len1):\n",
    "        arr.append(arr1[i])\n",
    "        i = i + 1\n",
    "        \n",
    "    while(j < len2):\n",
    "        arr.append(arr2[j])\n",
    "        j = j + 1\n",
    "    return arr\n",
    "\n",
    "N = int(input())\n",
    "arr1 = [ int(x) for x in input().split() ]\n",
    "M = int(input())\n",
    "arr2 = [ int(y) for y in input().split() ]\n",
    "arr = mergeSortedArrays(arr1,arr2)\n",
    "for ele in arr:\n",
    "    print(ele,end=\" \")"
   ]
  }
 ],
 "metadata": {
  "kernelspec": {
   "display_name": "Python 3",
   "language": "python",
   "name": "python3"
  },
  "language_info": {
   "codemirror_mode": {
    "name": "ipython",
    "version": 3
   },
   "file_extension": ".py",
   "mimetype": "text/x-python",
   "name": "python",
   "nbconvert_exporter": "python",
   "pygments_lexer": "ipython3",
   "version": "3.7.3"
  }
 },
 "nbformat": 4,
 "nbformat_minor": 2
}
