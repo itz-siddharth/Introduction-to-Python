{
 "cells": [
  {
   "cell_type": "markdown",
   "metadata": {},
   "source": [
    "## 9.1 Check Permutation [*Hint]\n",
    "<br>\n",
    "Given two strings, check if they are permutations of each other. Return true or false. <br>\n",
    "Permutation means - length of both the strings should same and should contain same set of characters.<br>\n",
    "Order of characters doesn't matter. <br>\n",
    "Note : Input strings contain only lowercase english alphabets.\n",
    "\n",
    "#### Input format :<br>\n",
    "Line 1 : String 1<br>\n",
    "Line 2 : String 2<br>\n",
    "#### Sample Input 1 :<br>\n",
    "abcde<br>\n",
    "baedc<br>\n",
    "#### Sample Output 1 :<br>\n",
    "true"
   ]
  },
  {
   "cell_type": "code",
   "execution_count": 5,
   "metadata": {},
   "outputs": [
    {
     "name": "stdout",
     "output_type": "stream",
     "text": [
      "abcde\n",
      "baedc\n",
      "true\n"
     ]
    }
   ],
   "source": [
    "def check(n,m):\n",
    "    a=1\n",
    "    length1=len(n)\n",
    "    length2=len(m)\n",
    "    p=\"\"\n",
    "    if length1 == length2:\n",
    "        a = sorted(n)\n",
    "        str1 = \" \".join(a)\n",
    "        b = sorted(m)\n",
    "        str2 = \" \".join(b)\n",
    "        \n",
    "        for i in range(0,length1,1):\n",
    "            if a[i]!=b[i]:\n",
    "                a=0\n",
    "                print(\"false\")\n",
    "                break\n",
    "        else:\n",
    "            print(\"true\")\n",
    "            \n",
    "    else:\n",
    "        print(\"false\")\n",
    "        \n",
    "\n",
    "n=input()\n",
    "m=input()\n",
    "check(n,m)"
   ]
  },
  {
   "cell_type": "markdown",
   "metadata": {},
   "source": [
    "## 9.2 Remove Consecutive Duplicates\n",
    "Given a string, remove all the consecutive duplicates that are present in the given string. <br>\n",
    "That means, if 'aaa' is present in the string then it should become 'a' in the output string.<br>\n",
    "#### Sample Input:\n",
    "aabccbaa\n",
    "#### Sample Output:\n",
    "abcba"
   ]
  },
  {
   "cell_type": "code",
   "execution_count": 6,
   "metadata": {},
   "outputs": [
    {
     "name": "stdout",
     "output_type": "stream",
     "text": [
      "aabccbaa\n",
      "abcba\n"
     ]
    }
   ],
   "source": [
    "def consecutive(str):\n",
    "    for i in range(len(str)):\n",
    "        if i == len(str)-1:\n",
    "            print(str[i])\n",
    "        elif str[i] == str[i+1]:\n",
    "            continue\n",
    "        else:\n",
    "            print(str[i],end=\"\")\n",
    "            \n",
    "str=input()\n",
    "consecutive(str)"
   ]
  },
  {
   "cell_type": "markdown",
   "metadata": {},
   "source": [
    "## 9.3 Reverse Each Word\n",
    "Given a string S, reverse each word of a string individually. <br>\n",
    "For eg. if a string is \"abc def\", reversed string should be \"cba fed\". <br>\n",
    "#### Input Format :<br>\n",
    "String S\n",
    "#### Output Format :\n",
    "Updated string\n",
    "Constraints :\n",
    "1 <= Length of S <= 1000\n",
    "\n",
    "#### Sample Input :\n",
    "Welcome to Coding Ninjas\n",
    "#### Sample Output:\n",
    "emocleW ot gnidoC sajniN"
   ]
  },
  {
   "cell_type": "code",
   "execution_count": 7,
   "metadata": {},
   "outputs": [
    {
     "name": "stdout",
     "output_type": "stream",
     "text": [
      "Welcome to Coding Ninjas\n",
      "emocleW ot gnidoC sajniN\n"
     ]
    }
   ],
   "source": [
    "def reverse(a):\n",
    "    b=''\n",
    "    for i in range(len(a)):\n",
    "        if a[i] == \" \":\n",
    "            j=i\n",
    "            i=i-1\n",
    "            \n",
    "            while a[i]!=\" \" and i>=0:\n",
    "                b+=a[i]\n",
    "                i=i-1\n",
    "            i=j\n",
    "            b+=\" \"\n",
    "        elif i == len(a)-1:\n",
    "            while a[i]!=\" \":\n",
    "                b+=a[i]\n",
    "                i=i-1\n",
    "                \n",
    "    return b\n",
    "\n",
    "a=input()\n",
    "print(reverse(a))"
   ]
  },
  {
   "cell_type": "markdown",
   "metadata": {},
   "source": [
    "## 9.4 Remove character\n",
    "Given a string and a character x. Write a function to remove all occurrences of x character from the given string.<br>\n",
    "Leave the string as it is, if the given character is not present in the string.<br>\n",
    "#### Input format :\n",
    "Line 1 : Input string\n",
    "<br>\n",
    "Line 2 : Character x\n",
    "<br>\n",
    "#### Sample Input :\n",
    "welcome to coding ninjas\n",
    "o\n",
    "#### Sample Output :\n",
    "welcme t cding ninjas"
   ]
  },
  {
   "cell_type": "code",
   "execution_count": 8,
   "metadata": {},
   "outputs": [
    {
     "name": "stdout",
     "output_type": "stream",
     "text": [
      "welcome to coding ninjas\n",
      "o\n",
      "welcme t cding ninjas\n"
     ]
    }
   ],
   "source": [
    "str = input()\n",
    "x = input()\n",
    "str = str.replace(x,\"\")\n",
    "print(str)"
   ]
  },
  {
   "cell_type": "markdown",
   "metadata": {},
   "source": [
    "## 9.5 Highest Occuring Character [*Hint]\n",
    "Given a string, find and return the highest occurring character present in the given string. <br>\n",
    "If there are 2 characters in the input string with same frequency, return the character which comes first.<br>\n",
    "Note : Assume all the characters in the given string are lowercase.\n",
    "#### Sample Input 1:\n",
    "abdefgbabfba\n",
    "#### Sample Output 1:\n",
    "b\n",
    "#### Sample Input 2:\n",
    "xy\n",
    "#### Sample Output 2:\n",
    "x"
   ]
  },
  {
   "cell_type": "code",
   "execution_count": 9,
   "metadata": {},
   "outputs": [
    {
     "name": "stdout",
     "output_type": "stream",
     "text": [
      "xy\n",
      "x\n"
     ]
    }
   ],
   "source": [
    "def hoc(string):\n",
    "    freq =[]\n",
    "    for i in range(123):\n",
    "        freq.append(0)\n",
    "        \n",
    "    for i in range(len(string)):\n",
    "        letter = string[i]\n",
    "        freq[ord(letter)]+=1\n",
    "        \n",
    "    max = 0\n",
    "    maxLetter=\"\"\n",
    "    for i in range(len(string)):\n",
    "        letter = ord(string[i])\n",
    "        if max<freq[letter]:\n",
    "            max=freq[letter]\n",
    "            maxLetter=chr(letter)\n",
    "    \n",
    "    return maxLetter\n",
    "\n",
    "string = input()\n",
    "print(hoc(string))"
   ]
  },
  {
   "cell_type": "markdown",
   "metadata": {},
   "source": [
    "## 9.6 Compress the String\n",
    "Write a program to do basic string compression. For a character which is consecutively repeated more than once, replace consecutive duplicate occurrences with the count of repetitions. <br>\n",
    "For e.g. if a String has 'x' repeated 5 times, replace this \"xxxxx\" with \"x5\".<br>\n",
    "Note : Consecutive count of every character in input string is less than equal to 9.\n",
    "#### Input Format :\n",
    "Input string S\n",
    "#### Output Format :\n",
    "Compressed string \n",
    "#### Sample Input:\n",
    "aaabbccdsa\n",
    "#### Sample Output:\n",
    "a3b2c2dsa"
   ]
  },
  {
   "cell_type": "code",
   "execution_count": 15,
   "metadata": {},
   "outputs": [
    {
     "name": "stdout",
     "output_type": "stream",
     "text": [
      "aaabbccdsa\n"
     ]
    },
    {
     "ename": "TypeError",
     "evalue": "'str' object is not callable",
     "output_type": "error",
     "traceback": [
      "\u001b[1;31m---------------------------------------------------------------------------\u001b[0m",
      "\u001b[1;31mTypeError\u001b[0m                                 Traceback (most recent call last)",
      "\u001b[1;32m<ipython-input-15-e008dc0b1c6c>\u001b[0m in \u001b[0;36m<module>\u001b[1;34m\u001b[0m\n\u001b[0;32m     23\u001b[0m \u001b[1;33m\u001b[0m\u001b[0m\n\u001b[0;32m     24\u001b[0m \u001b[0mn\u001b[0m \u001b[1;33m=\u001b[0m \u001b[0minput\u001b[0m\u001b[1;33m(\u001b[0m\u001b[1;33m)\u001b[0m\u001b[1;33m\u001b[0m\u001b[1;33m\u001b[0m\u001b[0m\n\u001b[1;32m---> 25\u001b[1;33m \u001b[0moccurance\u001b[0m\u001b[1;33m(\u001b[0m\u001b[0mn\u001b[0m\u001b[1;33m)\u001b[0m\u001b[1;33m\u001b[0m\u001b[1;33m\u001b[0m\u001b[0m\n\u001b[0m",
      "\u001b[1;32m<ipython-input-15-e008dc0b1c6c>\u001b[0m in \u001b[0;36moccurance\u001b[1;34m(str1)\u001b[0m\n\u001b[0;32m     16\u001b[0m         \u001b[0mstr3\u001b[0m\u001b[1;33m+=\u001b[0m\u001b[0mstr1\u001b[0m\u001b[1;33m[\u001b[0m\u001b[0mi\u001b[0m\u001b[1;33m]\u001b[0m\u001b[1;33m\u001b[0m\u001b[1;33m\u001b[0m\u001b[0m\n\u001b[0;32m     17\u001b[0m         \u001b[1;32mif\u001b[0m \u001b[0mcount\u001b[0m\u001b[1;33m!=\u001b[0m\u001b[1;36m1\u001b[0m\u001b[1;33m:\u001b[0m\u001b[1;33m\u001b[0m\u001b[1;33m\u001b[0m\u001b[0m\n\u001b[1;32m---> 18\u001b[1;33m             \u001b[0mstr3\u001b[0m\u001b[1;33m+=\u001b[0m\u001b[0mstr\u001b[0m\u001b[1;33m(\u001b[0m\u001b[0mcount\u001b[0m\u001b[1;33m)\u001b[0m\u001b[1;33m\u001b[0m\u001b[1;33m\u001b[0m\u001b[0m\n\u001b[0m\u001b[0;32m     19\u001b[0m \u001b[1;33m\u001b[0m\u001b[0m\n\u001b[0;32m     20\u001b[0m \u001b[1;33m\u001b[0m\u001b[0m\n",
      "\u001b[1;31mTypeError\u001b[0m: 'str' object is not callable"
     ]
    }
   ],
   "source": [
    "def occurance(str1):\n",
    "    length=len(str1)\n",
    "    i=0\n",
    "    str3=\"\"\n",
    "    while i<length:\n",
    "        str2=str1[i]\n",
    "        count=0\n",
    "        j=i\n",
    "        while j<length:\n",
    "            if str2 == str1[j]:\n",
    "                count = count + 1\n",
    "            else:\n",
    "                break\n",
    "            j=j+1\n",
    "            \n",
    "        str3+=str1[i]\n",
    "        if count!=1:\n",
    "            str3+=str(count)\n",
    "        \n",
    "        \n",
    "        i=i+count\n",
    "    print(str3)\n",
    "\n",
    "n = input()\n",
    "occurance(n)"
   ]
  }
 ],
 "metadata": {
  "kernelspec": {
   "display_name": "Python 3",
   "language": "python",
   "name": "python3"
  },
  "language_info": {
   "codemirror_mode": {
    "name": "ipython",
    "version": 3
   },
   "file_extension": ".py",
   "mimetype": "text/x-python",
   "name": "python",
   "nbconvert_exporter": "python",
   "pygments_lexer": "ipython3",
   "version": "3.7.3"
  }
 },
 "nbformat": 4,
 "nbformat_minor": 2
}
